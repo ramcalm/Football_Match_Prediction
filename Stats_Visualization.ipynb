{
  "nbformat": 4,
  "nbformat_minor": 0,
  "metadata": {
    "anaconda-cloud": {},
    "kernelspec": {
      "name": "python3",
      "display_name": "Python 3"
    },
    "language_info": {
      "codemirror_mode": {
        "name": "ipython",
        "version": 3
      },
      "file_extension": ".py",
      "mimetype": "text/x-python",
      "name": "python",
      "nbconvert_exporter": "python",
      "pygments_lexer": "ipython3",
      "version": "3.5.2"
    },
    "colab": {
      "name": "DV_Visualization.ipynb",
      "provenance": [],
      "collapsed_sections": [],
      "toc_visible": true
    },
    "accelerator": "TPU"
  },
  "cells": [
    {
      "cell_type": "markdown",
      "metadata": {
        "id": "HKehnEozhzHh",
        "colab_type": "text"
      },
      "source": [
        " "
      ]
    },
    {
      "cell_type": "markdown",
      "metadata": {
        "id": "ftygNXwghzHl",
        "colab_type": "text"
      },
      "source": [
        "# <center>CSE3002 - Data Visualization \n",
        "# <center>Predicting Football Match Outcome\n",
        "## <center>Visualization of Data\n",
        "### <center> **Ram Gunasekaran A - 18BCE1234**\n",
        "### <center> **Vishakhavel S - 18BCE1004**  \n"
      ]
    },
    {
      "cell_type": "markdown",
      "metadata": {
        "id": "8bcwl-mUhzHr",
        "colab_type": "text"
      },
      "source": [
        "### Dataset"
      ]
    },
    {
      "cell_type": "code",
      "metadata": {
        "id": "kAFFTY0_h4GK",
        "colab_type": "code",
        "outputId": "6b4b7fd5-0754-4346-e59d-a0c0cd2f0050",
        "colab": {
          "base_uri": "https://localhost:8080/",
          "height": 35
        }
      },
      "source": [
        "from google.colab import drive\n",
        "drive.mount('/content/gdrive')"
      ],
      "execution_count": 0,
      "outputs": [
        {
          "output_type": "stream",
          "text": [
            "Drive already mounted at /content/gdrive; to attempt to forcibly remount, call drive.mount(\"/content/gdrive\", force_remount=True).\n"
          ],
          "name": "stdout"
        }
      ]
    },
    {
      "cell_type": "code",
      "metadata": {
        "id": "yM1bbqceKg9u",
        "colab_type": "code",
        "colab": {}
      },
      "source": [
        "loc=\"//content//gdrive//My Drive//DataVisProj//Datasets//\""
      ],
      "execution_count": 0,
      "outputs": []
    },
    {
      "cell_type": "code",
      "metadata": {
        "id": "6lIp0OzUhzHw",
        "colab_type": "code",
        "outputId": "b71cb607-f126-4a97-b47e-6e626990a965",
        "colab": {
          "base_uri": "https://localhost:8080/",
          "height": 72
        }
      },
      "source": [
        "%matplotlib inline\n",
        "\n",
        "import numpy as np\n",
        "import matplotlib.pyplot as plt\n",
        "import seaborn as sns\n",
        "import pandas as pd\n",
        "import sqlite3\n",
        "import numpy as np\n",
        "import matplotlib.gridspec as gridspec\n",
        "from numpy import random\n",
        "import scipy.stats as scipy\n",
        "\n",
        "from IPython.display import display\n",
        "\n",
        "from sklearn.metrics import accuracy_score\n",
        "\n",
        "with sqlite3.connect(loc+'database.sqlite') as con:\n",
        "    countries = pd.read_sql_query(\"SELECT * from Country\", con)\n",
        "    matches = pd.read_sql_query(\"SELECT * from Match\", con)\n",
        "    leagues = pd.read_sql_query(\"SELECT * from League\", con)\n",
        "    teams = pd.read_sql_query(\"SELECT * from Team\", con)\n",
        "    tempmatch = pd.read_sql_query(\"SELECT * from Match\", con)\n",
        "    matches3 = matches2 = matches"
      ],
      "execution_count": 0,
      "outputs": [
        {
          "output_type": "stream",
          "text": [
            "/usr/local/lib/python3.6/dist-packages/statsmodels/tools/_testing.py:19: FutureWarning: pandas.util.testing is deprecated. Use the functions in the public API at pandas.testing instead.\n",
            "  import pandas.util.testing as tm\n"
          ],
          "name": "stderr"
        }
      ]
    },
    {
      "cell_type": "code",
      "metadata": {
        "id": "ZU7BhgiIhzH2",
        "colab_type": "code",
        "outputId": "a59bf951-55e6-46ca-d9cc-eeef484bcc9f",
        "colab": {
          "base_uri": "https://localhost:8080/",
          "height": 412
        }
      },
      "source": [
        "matches.head(5)"
      ],
      "execution_count": 0,
      "outputs": [
        {
          "output_type": "execute_result",
          "data": {
            "text/html": [
              "<div>\n",
              "<style scoped>\n",
              "    .dataframe tbody tr th:only-of-type {\n",
              "        vertical-align: middle;\n",
              "    }\n",
              "\n",
              "    .dataframe tbody tr th {\n",
              "        vertical-align: top;\n",
              "    }\n",
              "\n",
              "    .dataframe thead th {\n",
              "        text-align: right;\n",
              "    }\n",
              "</style>\n",
              "<table border=\"1\" class=\"dataframe\">\n",
              "  <thead>\n",
              "    <tr style=\"text-align: right;\">\n",
              "      <th></th>\n",
              "      <th>id</th>\n",
              "      <th>country_id</th>\n",
              "      <th>league_id</th>\n",
              "      <th>season</th>\n",
              "      <th>stage</th>\n",
              "      <th>date</th>\n",
              "      <th>match_api_id</th>\n",
              "      <th>home_team_api_id</th>\n",
              "      <th>away_team_api_id</th>\n",
              "      <th>home_team_goal</th>\n",
              "      <th>away_team_goal</th>\n",
              "      <th>home_player_X1</th>\n",
              "      <th>home_player_X2</th>\n",
              "      <th>home_player_X3</th>\n",
              "      <th>home_player_X4</th>\n",
              "      <th>home_player_X5</th>\n",
              "      <th>home_player_X6</th>\n",
              "      <th>home_player_X7</th>\n",
              "      <th>home_player_X8</th>\n",
              "      <th>home_player_X9</th>\n",
              "      <th>home_player_X10</th>\n",
              "      <th>home_player_X11</th>\n",
              "      <th>away_player_X1</th>\n",
              "      <th>away_player_X2</th>\n",
              "      <th>away_player_X3</th>\n",
              "      <th>away_player_X4</th>\n",
              "      <th>away_player_X5</th>\n",
              "      <th>away_player_X6</th>\n",
              "      <th>away_player_X7</th>\n",
              "      <th>away_player_X8</th>\n",
              "      <th>away_player_X9</th>\n",
              "      <th>away_player_X10</th>\n",
              "      <th>away_player_X11</th>\n",
              "      <th>home_player_Y1</th>\n",
              "      <th>home_player_Y2</th>\n",
              "      <th>home_player_Y3</th>\n",
              "      <th>home_player_Y4</th>\n",
              "      <th>home_player_Y5</th>\n",
              "      <th>home_player_Y6</th>\n",
              "      <th>home_player_Y7</th>\n",
              "      <th>...</th>\n",
              "      <th>away_player_10</th>\n",
              "      <th>away_player_11</th>\n",
              "      <th>goal</th>\n",
              "      <th>shoton</th>\n",
              "      <th>shotoff</th>\n",
              "      <th>foulcommit</th>\n",
              "      <th>card</th>\n",
              "      <th>cross</th>\n",
              "      <th>corner</th>\n",
              "      <th>possession</th>\n",
              "      <th>B365H</th>\n",
              "      <th>B365D</th>\n",
              "      <th>B365A</th>\n",
              "      <th>BWH</th>\n",
              "      <th>BWD</th>\n",
              "      <th>BWA</th>\n",
              "      <th>IWH</th>\n",
              "      <th>IWD</th>\n",
              "      <th>IWA</th>\n",
              "      <th>LBH</th>\n",
              "      <th>LBD</th>\n",
              "      <th>LBA</th>\n",
              "      <th>PSH</th>\n",
              "      <th>PSD</th>\n",
              "      <th>PSA</th>\n",
              "      <th>WHH</th>\n",
              "      <th>WHD</th>\n",
              "      <th>WHA</th>\n",
              "      <th>SJH</th>\n",
              "      <th>SJD</th>\n",
              "      <th>SJA</th>\n",
              "      <th>VCH</th>\n",
              "      <th>VCD</th>\n",
              "      <th>VCA</th>\n",
              "      <th>GBH</th>\n",
              "      <th>GBD</th>\n",
              "      <th>GBA</th>\n",
              "      <th>BSH</th>\n",
              "      <th>BSD</th>\n",
              "      <th>BSA</th>\n",
              "    </tr>\n",
              "  </thead>\n",
              "  <tbody>\n",
              "    <tr>\n",
              "      <th>0</th>\n",
              "      <td>1</td>\n",
              "      <td>1</td>\n",
              "      <td>1</td>\n",
              "      <td>2008/2009</td>\n",
              "      <td>1</td>\n",
              "      <td>2008-08-17 00:00:00</td>\n",
              "      <td>492473</td>\n",
              "      <td>9987</td>\n",
              "      <td>9993</td>\n",
              "      <td>1</td>\n",
              "      <td>1</td>\n",
              "      <td>NaN</td>\n",
              "      <td>NaN</td>\n",
              "      <td>NaN</td>\n",
              "      <td>NaN</td>\n",
              "      <td>NaN</td>\n",
              "      <td>NaN</td>\n",
              "      <td>NaN</td>\n",
              "      <td>NaN</td>\n",
              "      <td>NaN</td>\n",
              "      <td>NaN</td>\n",
              "      <td>NaN</td>\n",
              "      <td>NaN</td>\n",
              "      <td>NaN</td>\n",
              "      <td>NaN</td>\n",
              "      <td>NaN</td>\n",
              "      <td>NaN</td>\n",
              "      <td>NaN</td>\n",
              "      <td>NaN</td>\n",
              "      <td>NaN</td>\n",
              "      <td>NaN</td>\n",
              "      <td>NaN</td>\n",
              "      <td>NaN</td>\n",
              "      <td>NaN</td>\n",
              "      <td>NaN</td>\n",
              "      <td>NaN</td>\n",
              "      <td>NaN</td>\n",
              "      <td>NaN</td>\n",
              "      <td>NaN</td>\n",
              "      <td>NaN</td>\n",
              "      <td>...</td>\n",
              "      <td>NaN</td>\n",
              "      <td>NaN</td>\n",
              "      <td>None</td>\n",
              "      <td>None</td>\n",
              "      <td>None</td>\n",
              "      <td>None</td>\n",
              "      <td>None</td>\n",
              "      <td>None</td>\n",
              "      <td>None</td>\n",
              "      <td>None</td>\n",
              "      <td>1.73</td>\n",
              "      <td>3.40</td>\n",
              "      <td>5.00</td>\n",
              "      <td>1.75</td>\n",
              "      <td>3.35</td>\n",
              "      <td>4.20</td>\n",
              "      <td>1.85</td>\n",
              "      <td>3.2</td>\n",
              "      <td>3.5</td>\n",
              "      <td>1.80</td>\n",
              "      <td>3.3</td>\n",
              "      <td>3.75</td>\n",
              "      <td>NaN</td>\n",
              "      <td>NaN</td>\n",
              "      <td>NaN</td>\n",
              "      <td>1.70</td>\n",
              "      <td>3.30</td>\n",
              "      <td>4.33</td>\n",
              "      <td>1.90</td>\n",
              "      <td>3.3</td>\n",
              "      <td>4.00</td>\n",
              "      <td>1.65</td>\n",
              "      <td>3.40</td>\n",
              "      <td>4.50</td>\n",
              "      <td>1.78</td>\n",
              "      <td>3.25</td>\n",
              "      <td>4.00</td>\n",
              "      <td>1.73</td>\n",
              "      <td>3.40</td>\n",
              "      <td>4.20</td>\n",
              "    </tr>\n",
              "    <tr>\n",
              "      <th>1</th>\n",
              "      <td>2</td>\n",
              "      <td>1</td>\n",
              "      <td>1</td>\n",
              "      <td>2008/2009</td>\n",
              "      <td>1</td>\n",
              "      <td>2008-08-16 00:00:00</td>\n",
              "      <td>492474</td>\n",
              "      <td>10000</td>\n",
              "      <td>9994</td>\n",
              "      <td>0</td>\n",
              "      <td>0</td>\n",
              "      <td>NaN</td>\n",
              "      <td>NaN</td>\n",
              "      <td>NaN</td>\n",
              "      <td>NaN</td>\n",
              "      <td>NaN</td>\n",
              "      <td>NaN</td>\n",
              "      <td>NaN</td>\n",
              "      <td>NaN</td>\n",
              "      <td>NaN</td>\n",
              "      <td>NaN</td>\n",
              "      <td>NaN</td>\n",
              "      <td>NaN</td>\n",
              "      <td>NaN</td>\n",
              "      <td>NaN</td>\n",
              "      <td>NaN</td>\n",
              "      <td>NaN</td>\n",
              "      <td>NaN</td>\n",
              "      <td>NaN</td>\n",
              "      <td>NaN</td>\n",
              "      <td>NaN</td>\n",
              "      <td>NaN</td>\n",
              "      <td>NaN</td>\n",
              "      <td>NaN</td>\n",
              "      <td>NaN</td>\n",
              "      <td>NaN</td>\n",
              "      <td>NaN</td>\n",
              "      <td>NaN</td>\n",
              "      <td>NaN</td>\n",
              "      <td>NaN</td>\n",
              "      <td>...</td>\n",
              "      <td>NaN</td>\n",
              "      <td>NaN</td>\n",
              "      <td>None</td>\n",
              "      <td>None</td>\n",
              "      <td>None</td>\n",
              "      <td>None</td>\n",
              "      <td>None</td>\n",
              "      <td>None</td>\n",
              "      <td>None</td>\n",
              "      <td>None</td>\n",
              "      <td>1.95</td>\n",
              "      <td>3.20</td>\n",
              "      <td>3.60</td>\n",
              "      <td>1.80</td>\n",
              "      <td>3.30</td>\n",
              "      <td>3.95</td>\n",
              "      <td>1.90</td>\n",
              "      <td>3.2</td>\n",
              "      <td>3.5</td>\n",
              "      <td>1.90</td>\n",
              "      <td>3.2</td>\n",
              "      <td>3.50</td>\n",
              "      <td>NaN</td>\n",
              "      <td>NaN</td>\n",
              "      <td>NaN</td>\n",
              "      <td>1.83</td>\n",
              "      <td>3.30</td>\n",
              "      <td>3.60</td>\n",
              "      <td>1.95</td>\n",
              "      <td>3.3</td>\n",
              "      <td>3.80</td>\n",
              "      <td>2.00</td>\n",
              "      <td>3.25</td>\n",
              "      <td>3.25</td>\n",
              "      <td>1.85</td>\n",
              "      <td>3.25</td>\n",
              "      <td>3.75</td>\n",
              "      <td>1.91</td>\n",
              "      <td>3.25</td>\n",
              "      <td>3.60</td>\n",
              "    </tr>\n",
              "    <tr>\n",
              "      <th>2</th>\n",
              "      <td>3</td>\n",
              "      <td>1</td>\n",
              "      <td>1</td>\n",
              "      <td>2008/2009</td>\n",
              "      <td>1</td>\n",
              "      <td>2008-08-16 00:00:00</td>\n",
              "      <td>492475</td>\n",
              "      <td>9984</td>\n",
              "      <td>8635</td>\n",
              "      <td>0</td>\n",
              "      <td>3</td>\n",
              "      <td>NaN</td>\n",
              "      <td>NaN</td>\n",
              "      <td>NaN</td>\n",
              "      <td>NaN</td>\n",
              "      <td>NaN</td>\n",
              "      <td>NaN</td>\n",
              "      <td>NaN</td>\n",
              "      <td>NaN</td>\n",
              "      <td>NaN</td>\n",
              "      <td>NaN</td>\n",
              "      <td>NaN</td>\n",
              "      <td>NaN</td>\n",
              "      <td>NaN</td>\n",
              "      <td>NaN</td>\n",
              "      <td>NaN</td>\n",
              "      <td>NaN</td>\n",
              "      <td>NaN</td>\n",
              "      <td>NaN</td>\n",
              "      <td>NaN</td>\n",
              "      <td>NaN</td>\n",
              "      <td>NaN</td>\n",
              "      <td>NaN</td>\n",
              "      <td>NaN</td>\n",
              "      <td>NaN</td>\n",
              "      <td>NaN</td>\n",
              "      <td>NaN</td>\n",
              "      <td>NaN</td>\n",
              "      <td>NaN</td>\n",
              "      <td>NaN</td>\n",
              "      <td>...</td>\n",
              "      <td>NaN</td>\n",
              "      <td>NaN</td>\n",
              "      <td>None</td>\n",
              "      <td>None</td>\n",
              "      <td>None</td>\n",
              "      <td>None</td>\n",
              "      <td>None</td>\n",
              "      <td>None</td>\n",
              "      <td>None</td>\n",
              "      <td>None</td>\n",
              "      <td>2.38</td>\n",
              "      <td>3.30</td>\n",
              "      <td>2.75</td>\n",
              "      <td>2.40</td>\n",
              "      <td>3.30</td>\n",
              "      <td>2.55</td>\n",
              "      <td>2.60</td>\n",
              "      <td>3.1</td>\n",
              "      <td>2.3</td>\n",
              "      <td>2.50</td>\n",
              "      <td>3.2</td>\n",
              "      <td>2.50</td>\n",
              "      <td>NaN</td>\n",
              "      <td>NaN</td>\n",
              "      <td>NaN</td>\n",
              "      <td>2.50</td>\n",
              "      <td>3.25</td>\n",
              "      <td>2.40</td>\n",
              "      <td>2.63</td>\n",
              "      <td>3.3</td>\n",
              "      <td>2.50</td>\n",
              "      <td>2.35</td>\n",
              "      <td>3.25</td>\n",
              "      <td>2.65</td>\n",
              "      <td>2.50</td>\n",
              "      <td>3.20</td>\n",
              "      <td>2.50</td>\n",
              "      <td>2.30</td>\n",
              "      <td>3.20</td>\n",
              "      <td>2.75</td>\n",
              "    </tr>\n",
              "    <tr>\n",
              "      <th>3</th>\n",
              "      <td>4</td>\n",
              "      <td>1</td>\n",
              "      <td>1</td>\n",
              "      <td>2008/2009</td>\n",
              "      <td>1</td>\n",
              "      <td>2008-08-17 00:00:00</td>\n",
              "      <td>492476</td>\n",
              "      <td>9991</td>\n",
              "      <td>9998</td>\n",
              "      <td>5</td>\n",
              "      <td>0</td>\n",
              "      <td>NaN</td>\n",
              "      <td>NaN</td>\n",
              "      <td>NaN</td>\n",
              "      <td>NaN</td>\n",
              "      <td>NaN</td>\n",
              "      <td>NaN</td>\n",
              "      <td>NaN</td>\n",
              "      <td>NaN</td>\n",
              "      <td>NaN</td>\n",
              "      <td>NaN</td>\n",
              "      <td>NaN</td>\n",
              "      <td>NaN</td>\n",
              "      <td>NaN</td>\n",
              "      <td>NaN</td>\n",
              "      <td>NaN</td>\n",
              "      <td>NaN</td>\n",
              "      <td>NaN</td>\n",
              "      <td>NaN</td>\n",
              "      <td>NaN</td>\n",
              "      <td>NaN</td>\n",
              "      <td>NaN</td>\n",
              "      <td>NaN</td>\n",
              "      <td>NaN</td>\n",
              "      <td>NaN</td>\n",
              "      <td>NaN</td>\n",
              "      <td>NaN</td>\n",
              "      <td>NaN</td>\n",
              "      <td>NaN</td>\n",
              "      <td>NaN</td>\n",
              "      <td>...</td>\n",
              "      <td>NaN</td>\n",
              "      <td>NaN</td>\n",
              "      <td>None</td>\n",
              "      <td>None</td>\n",
              "      <td>None</td>\n",
              "      <td>None</td>\n",
              "      <td>None</td>\n",
              "      <td>None</td>\n",
              "      <td>None</td>\n",
              "      <td>None</td>\n",
              "      <td>1.44</td>\n",
              "      <td>3.75</td>\n",
              "      <td>7.50</td>\n",
              "      <td>1.40</td>\n",
              "      <td>4.00</td>\n",
              "      <td>6.80</td>\n",
              "      <td>1.40</td>\n",
              "      <td>3.9</td>\n",
              "      <td>6.0</td>\n",
              "      <td>1.44</td>\n",
              "      <td>3.6</td>\n",
              "      <td>6.50</td>\n",
              "      <td>NaN</td>\n",
              "      <td>NaN</td>\n",
              "      <td>NaN</td>\n",
              "      <td>1.44</td>\n",
              "      <td>3.75</td>\n",
              "      <td>6.00</td>\n",
              "      <td>1.44</td>\n",
              "      <td>4.0</td>\n",
              "      <td>7.50</td>\n",
              "      <td>1.45</td>\n",
              "      <td>3.75</td>\n",
              "      <td>6.50</td>\n",
              "      <td>1.50</td>\n",
              "      <td>3.75</td>\n",
              "      <td>5.50</td>\n",
              "      <td>1.44</td>\n",
              "      <td>3.75</td>\n",
              "      <td>6.50</td>\n",
              "    </tr>\n",
              "    <tr>\n",
              "      <th>4</th>\n",
              "      <td>5</td>\n",
              "      <td>1</td>\n",
              "      <td>1</td>\n",
              "      <td>2008/2009</td>\n",
              "      <td>1</td>\n",
              "      <td>2008-08-16 00:00:00</td>\n",
              "      <td>492477</td>\n",
              "      <td>7947</td>\n",
              "      <td>9985</td>\n",
              "      <td>1</td>\n",
              "      <td>3</td>\n",
              "      <td>NaN</td>\n",
              "      <td>NaN</td>\n",
              "      <td>NaN</td>\n",
              "      <td>NaN</td>\n",
              "      <td>NaN</td>\n",
              "      <td>NaN</td>\n",
              "      <td>NaN</td>\n",
              "      <td>NaN</td>\n",
              "      <td>NaN</td>\n",
              "      <td>NaN</td>\n",
              "      <td>NaN</td>\n",
              "      <td>NaN</td>\n",
              "      <td>NaN</td>\n",
              "      <td>NaN</td>\n",
              "      <td>NaN</td>\n",
              "      <td>NaN</td>\n",
              "      <td>NaN</td>\n",
              "      <td>NaN</td>\n",
              "      <td>NaN</td>\n",
              "      <td>NaN</td>\n",
              "      <td>NaN</td>\n",
              "      <td>NaN</td>\n",
              "      <td>NaN</td>\n",
              "      <td>NaN</td>\n",
              "      <td>NaN</td>\n",
              "      <td>NaN</td>\n",
              "      <td>NaN</td>\n",
              "      <td>NaN</td>\n",
              "      <td>NaN</td>\n",
              "      <td>...</td>\n",
              "      <td>NaN</td>\n",
              "      <td>NaN</td>\n",
              "      <td>None</td>\n",
              "      <td>None</td>\n",
              "      <td>None</td>\n",
              "      <td>None</td>\n",
              "      <td>None</td>\n",
              "      <td>None</td>\n",
              "      <td>None</td>\n",
              "      <td>None</td>\n",
              "      <td>5.00</td>\n",
              "      <td>3.50</td>\n",
              "      <td>1.65</td>\n",
              "      <td>5.00</td>\n",
              "      <td>3.50</td>\n",
              "      <td>1.60</td>\n",
              "      <td>4.00</td>\n",
              "      <td>3.3</td>\n",
              "      <td>1.7</td>\n",
              "      <td>4.00</td>\n",
              "      <td>3.4</td>\n",
              "      <td>1.72</td>\n",
              "      <td>NaN</td>\n",
              "      <td>NaN</td>\n",
              "      <td>NaN</td>\n",
              "      <td>4.20</td>\n",
              "      <td>3.40</td>\n",
              "      <td>1.70</td>\n",
              "      <td>4.50</td>\n",
              "      <td>3.5</td>\n",
              "      <td>1.73</td>\n",
              "      <td>4.50</td>\n",
              "      <td>3.40</td>\n",
              "      <td>1.65</td>\n",
              "      <td>4.50</td>\n",
              "      <td>3.50</td>\n",
              "      <td>1.65</td>\n",
              "      <td>4.75</td>\n",
              "      <td>3.30</td>\n",
              "      <td>1.67</td>\n",
              "    </tr>\n",
              "  </tbody>\n",
              "</table>\n",
              "<p>5 rows × 115 columns</p>\n",
              "</div>"
            ],
            "text/plain": [
              "   id  country_id  league_id     season  stage  ...   GBD   GBA   BSH   BSD   BSA\n",
              "0   1           1          1  2008/2009      1  ...  3.25  4.00  1.73  3.40  4.20\n",
              "1   2           1          1  2008/2009      1  ...  3.25  3.75  1.91  3.25  3.60\n",
              "2   3           1          1  2008/2009      1  ...  3.20  2.50  2.30  3.20  2.75\n",
              "3   4           1          1  2008/2009      1  ...  3.75  5.50  1.44  3.75  6.50\n",
              "4   5           1          1  2008/2009      1  ...  3.50  1.65  4.75  3.30  1.67\n",
              "\n",
              "[5 rows x 115 columns]"
            ]
          },
          "metadata": {
            "tags": []
          },
          "execution_count": 14
        }
      ]
    },
    {
      "cell_type": "markdown",
      "metadata": {
        "id": "9vd5C87RhzIH",
        "colab_type": "text"
      },
      "source": [
        "### Selecting the countries of interest"
      ]
    },
    {
      "cell_type": "markdown",
      "metadata": {
        "id": "vzjkJ0Y7hzII",
        "colab_type": "text"
      },
      "source": [
        "We have selected the countries - Germany,England and Spain for analysis and extract the details of those leagues from our dataset"
      ]
    },
    {
      "cell_type": "code",
      "metadata": {
        "id": "r2JpsLxphzIJ",
        "colab_type": "code",
        "outputId": "283b0f37-8c8d-49bd-e893-de19867c0d05",
        "colab": {
          "base_uri": "https://localhost:8080/",
          "height": 135
        }
      },
      "source": [
        "main_countries = ['England','Germany','Spain']\n",
        "countries = countries[countries.name.isin(main_countries)]\n",
        "leagues = countries.merge(leagues,on='id',suffixes=('', '_y'))\n",
        "seasons = matches.season.unique()\n",
        "leagues"
      ],
      "execution_count": 0,
      "outputs": [
        {
          "output_type": "execute_result",
          "data": {
            "text/html": [
              "<div>\n",
              "<style scoped>\n",
              "    .dataframe tbody tr th:only-of-type {\n",
              "        vertical-align: middle;\n",
              "    }\n",
              "\n",
              "    .dataframe tbody tr th {\n",
              "        vertical-align: top;\n",
              "    }\n",
              "\n",
              "    .dataframe thead th {\n",
              "        text-align: right;\n",
              "    }\n",
              "</style>\n",
              "<table border=\"1\" class=\"dataframe\">\n",
              "  <thead>\n",
              "    <tr style=\"text-align: right;\">\n",
              "      <th></th>\n",
              "      <th>id</th>\n",
              "      <th>name</th>\n",
              "      <th>country_id</th>\n",
              "      <th>name_y</th>\n",
              "    </tr>\n",
              "  </thead>\n",
              "  <tbody>\n",
              "    <tr>\n",
              "      <th>0</th>\n",
              "      <td>1729</td>\n",
              "      <td>England</td>\n",
              "      <td>1729</td>\n",
              "      <td>England Premier League</td>\n",
              "    </tr>\n",
              "    <tr>\n",
              "      <th>1</th>\n",
              "      <td>7809</td>\n",
              "      <td>Germany</td>\n",
              "      <td>7809</td>\n",
              "      <td>Germany 1. Bundesliga</td>\n",
              "    </tr>\n",
              "    <tr>\n",
              "      <th>2</th>\n",
              "      <td>21518</td>\n",
              "      <td>Spain</td>\n",
              "      <td>21518</td>\n",
              "      <td>Spain LIGA BBVA</td>\n",
              "    </tr>\n",
              "  </tbody>\n",
              "</table>\n",
              "</div>"
            ],
            "text/plain": [
              "      id     name  country_id                  name_y\n",
              "0   1729  England        1729  England Premier League\n",
              "1   7809  Germany        7809   Germany 1. Bundesliga\n",
              "2  21518    Spain       21518         Spain LIGA BBVA"
            ]
          },
          "metadata": {
            "tags": []
          },
          "execution_count": 15
        }
      ]
    },
    {
      "cell_type": "markdown",
      "metadata": {
        "id": "2jMAvWwwhzIM",
        "colab_type": "text"
      },
      "source": [
        "### Merge the leagues with corresponding matches\n"
      ]
    },
    {
      "cell_type": "code",
      "metadata": {
        "id": "QU8khKo8hzIO",
        "colab_type": "code",
        "outputId": "2eb836b8-5f41-4ed7-c52b-32417a348a0b",
        "colab": {
          "base_uri": "https://localhost:8080/",
          "height": 194
        }
      },
      "source": [
        "req_matches = matches[matches.league_id.isin(leagues['id'])]\n",
        "req_matches = req_matches[['id','league_id','home_team_api_id','away_team_api_id','home_team_goal','away_team_goal','season']]\n",
        "req_matches[\"total_goals\"] = req_matches['home_team_goal'] + req_matches['away_team_goal']\n",
        "req_matches.dropna(inplace=True)\n",
        "req_matches.head()"
      ],
      "execution_count": 0,
      "outputs": [
        {
          "output_type": "execute_result",
          "data": {
            "text/html": [
              "<div>\n",
              "<style scoped>\n",
              "    .dataframe tbody tr th:only-of-type {\n",
              "        vertical-align: middle;\n",
              "    }\n",
              "\n",
              "    .dataframe tbody tr th {\n",
              "        vertical-align: top;\n",
              "    }\n",
              "\n",
              "    .dataframe thead th {\n",
              "        text-align: right;\n",
              "    }\n",
              "</style>\n",
              "<table border=\"1\" class=\"dataframe\">\n",
              "  <thead>\n",
              "    <tr style=\"text-align: right;\">\n",
              "      <th></th>\n",
              "      <th>id</th>\n",
              "      <th>league_id</th>\n",
              "      <th>home_team_api_id</th>\n",
              "      <th>away_team_api_id</th>\n",
              "      <th>home_team_goal</th>\n",
              "      <th>away_team_goal</th>\n",
              "      <th>season</th>\n",
              "      <th>total_goals</th>\n",
              "    </tr>\n",
              "  </thead>\n",
              "  <tbody>\n",
              "    <tr>\n",
              "      <th>1728</th>\n",
              "      <td>1729</td>\n",
              "      <td>1729</td>\n",
              "      <td>10260</td>\n",
              "      <td>10261</td>\n",
              "      <td>1</td>\n",
              "      <td>1</td>\n",
              "      <td>2008/2009</td>\n",
              "      <td>2</td>\n",
              "    </tr>\n",
              "    <tr>\n",
              "      <th>1729</th>\n",
              "      <td>1730</td>\n",
              "      <td>1729</td>\n",
              "      <td>9825</td>\n",
              "      <td>8659</td>\n",
              "      <td>1</td>\n",
              "      <td>0</td>\n",
              "      <td>2008/2009</td>\n",
              "      <td>1</td>\n",
              "    </tr>\n",
              "    <tr>\n",
              "      <th>1730</th>\n",
              "      <td>1731</td>\n",
              "      <td>1729</td>\n",
              "      <td>8472</td>\n",
              "      <td>8650</td>\n",
              "      <td>0</td>\n",
              "      <td>1</td>\n",
              "      <td>2008/2009</td>\n",
              "      <td>1</td>\n",
              "    </tr>\n",
              "    <tr>\n",
              "      <th>1731</th>\n",
              "      <td>1732</td>\n",
              "      <td>1729</td>\n",
              "      <td>8654</td>\n",
              "      <td>8528</td>\n",
              "      <td>2</td>\n",
              "      <td>1</td>\n",
              "      <td>2008/2009</td>\n",
              "      <td>3</td>\n",
              "    </tr>\n",
              "    <tr>\n",
              "      <th>1732</th>\n",
              "      <td>1733</td>\n",
              "      <td>1729</td>\n",
              "      <td>10252</td>\n",
              "      <td>8456</td>\n",
              "      <td>4</td>\n",
              "      <td>2</td>\n",
              "      <td>2008/2009</td>\n",
              "      <td>6</td>\n",
              "    </tr>\n",
              "  </tbody>\n",
              "</table>\n",
              "</div>"
            ],
            "text/plain": [
              "        id  league_id  home_team_api_id  ...  away_team_goal     season  total_goals\n",
              "1728  1729       1729             10260  ...               1  2008/2009            2\n",
              "1729  1730       1729              9825  ...               0  2008/2009            1\n",
              "1730  1731       1729              8472  ...               1  2008/2009            1\n",
              "1731  1732       1729              8654  ...               1  2008/2009            3\n",
              "1732  1733       1729             10252  ...               2  2008/2009            6\n",
              "\n",
              "[5 rows x 8 columns]"
            ]
          },
          "metadata": {
            "tags": []
          },
          "execution_count": 16
        }
      ]
    },
    {
      "cell_type": "markdown",
      "metadata": {
        "id": "1Zncov65hzIS",
        "colab_type": "text"
      },
      "source": [
        "### Adding results of the match"
      ]
    },
    {
      "cell_type": "markdown",
      "metadata": {
        "id": "1kpiTZUShzIT",
        "colab_type": "text"
      },
      "source": [
        "The dataset did not contain the result of the match. We added the results by comparing the home team goal and away team goal for that match. If the home team has more goals than the away team then the home team won the match and if not then the away team won the match. If both the goals are equal matche ended in draw. I am giving win as 1, draw as 0 and loss as -1 and then appended it to the table."
      ]
    },
    {
      "cell_type": "code",
      "metadata": {
        "id": "umhK2y5GhzIU",
        "colab_type": "code",
        "outputId": "b7be615e-c007-4c0c-ac77-c39be9c9d717",
        "colab": {
          "base_uri": "https://localhost:8080/",
          "height": 194
        }
      },
      "source": [
        "def res(row):\n",
        "    if row['home_team_goal'] == row['away_team_goal']:\n",
        "        val = 0   #Draw\n",
        "    elif row['home_team_goal'] > row['away_team_goal']:\n",
        "        val = 1   #HomeTeamWin\n",
        "    else:\n",
        "        val = -1  #AwayTeamWin\n",
        "    return val\n",
        "\n",
        "req_matches[\"result\"] = req_matches.apply(res,axis = 1)\n",
        "req_matches.head()"
      ],
      "execution_count": 0,
      "outputs": [
        {
          "output_type": "execute_result",
          "data": {
            "text/html": [
              "<div>\n",
              "<style scoped>\n",
              "    .dataframe tbody tr th:only-of-type {\n",
              "        vertical-align: middle;\n",
              "    }\n",
              "\n",
              "    .dataframe tbody tr th {\n",
              "        vertical-align: top;\n",
              "    }\n",
              "\n",
              "    .dataframe thead th {\n",
              "        text-align: right;\n",
              "    }\n",
              "</style>\n",
              "<table border=\"1\" class=\"dataframe\">\n",
              "  <thead>\n",
              "    <tr style=\"text-align: right;\">\n",
              "      <th></th>\n",
              "      <th>id</th>\n",
              "      <th>league_id</th>\n",
              "      <th>home_team_api_id</th>\n",
              "      <th>away_team_api_id</th>\n",
              "      <th>home_team_goal</th>\n",
              "      <th>away_team_goal</th>\n",
              "      <th>season</th>\n",
              "      <th>total_goals</th>\n",
              "      <th>result</th>\n",
              "    </tr>\n",
              "  </thead>\n",
              "  <tbody>\n",
              "    <tr>\n",
              "      <th>1728</th>\n",
              "      <td>1729</td>\n",
              "      <td>1729</td>\n",
              "      <td>10260</td>\n",
              "      <td>10261</td>\n",
              "      <td>1</td>\n",
              "      <td>1</td>\n",
              "      <td>2008/2009</td>\n",
              "      <td>2</td>\n",
              "      <td>0</td>\n",
              "    </tr>\n",
              "    <tr>\n",
              "      <th>1729</th>\n",
              "      <td>1730</td>\n",
              "      <td>1729</td>\n",
              "      <td>9825</td>\n",
              "      <td>8659</td>\n",
              "      <td>1</td>\n",
              "      <td>0</td>\n",
              "      <td>2008/2009</td>\n",
              "      <td>1</td>\n",
              "      <td>1</td>\n",
              "    </tr>\n",
              "    <tr>\n",
              "      <th>1730</th>\n",
              "      <td>1731</td>\n",
              "      <td>1729</td>\n",
              "      <td>8472</td>\n",
              "      <td>8650</td>\n",
              "      <td>0</td>\n",
              "      <td>1</td>\n",
              "      <td>2008/2009</td>\n",
              "      <td>1</td>\n",
              "      <td>-1</td>\n",
              "    </tr>\n",
              "    <tr>\n",
              "      <th>1731</th>\n",
              "      <td>1732</td>\n",
              "      <td>1729</td>\n",
              "      <td>8654</td>\n",
              "      <td>8528</td>\n",
              "      <td>2</td>\n",
              "      <td>1</td>\n",
              "      <td>2008/2009</td>\n",
              "      <td>3</td>\n",
              "      <td>1</td>\n",
              "    </tr>\n",
              "    <tr>\n",
              "      <th>1732</th>\n",
              "      <td>1733</td>\n",
              "      <td>1729</td>\n",
              "      <td>10252</td>\n",
              "      <td>8456</td>\n",
              "      <td>4</td>\n",
              "      <td>2</td>\n",
              "      <td>2008/2009</td>\n",
              "      <td>6</td>\n",
              "      <td>1</td>\n",
              "    </tr>\n",
              "  </tbody>\n",
              "</table>\n",
              "</div>"
            ],
            "text/plain": [
              "        id  league_id  home_team_api_id  ...     season  total_goals  result\n",
              "1728  1729       1729             10260  ...  2008/2009            2       0\n",
              "1729  1730       1729              9825  ...  2008/2009            1       1\n",
              "1730  1731       1729              8472  ...  2008/2009            1      -1\n",
              "1731  1732       1729              8654  ...  2008/2009            3       1\n",
              "1732  1733       1729             10252  ...  2008/2009            6       1\n",
              "\n",
              "[5 rows x 9 columns]"
            ]
          },
          "metadata": {
            "tags": []
          },
          "execution_count": 17
        }
      ]
    },
    {
      "cell_type": "markdown",
      "metadata": {
        "id": "J26NExBvhzIX",
        "colab_type": "text"
      },
      "source": [
        "### Separating the leagues\n"
      ]
    },
    {
      "cell_type": "markdown",
      "metadata": {
        "id": "XMSqRqOphzIY",
        "colab_type": "text"
      },
      "source": [
        "The matches need to be separated and grouped by their leagues. A new dataframe for storing the separated leagues is created."
      ]
    },
    {
      "cell_type": "code",
      "metadata": {
        "id": "EIs6D32mhzIZ",
        "colab_type": "code",
        "colab": {}
      },
      "source": [
        "new_matches = pd.merge(req_matches,leagues,left_on='league_id', right_on='id')\n",
        "new_matches = new_matches.drop(['id_x','id_y','country_id'],axis = 1)\n",
        "english = new_matches[new_matches.name == \"England\"]\n",
        "spanish = new_matches[new_matches.name == \"Spain\"]\n",
        "german = new_matches[new_matches.name == \"Germany\"]"
      ],
      "execution_count": 0,
      "outputs": []
    },
    {
      "cell_type": "markdown",
      "metadata": {
        "id": "rsQYaWFuhzId",
        "colab_type": "text"
      },
      "source": [
        "### Grouping and dividing by seasons"
      ]
    },
    {
      "cell_type": "markdown",
      "metadata": {
        "id": "LsH7ShKvhzIf",
        "colab_type": "text"
      },
      "source": [
        "Then dividing them by their seasons and storing them into new dataframe."
      ]
    },
    {
      "cell_type": "code",
      "metadata": {
        "id": "sogx6oQwhzIg",
        "colab_type": "code",
        "colab": {}
      },
      "source": [
        "e = english.groupby('season')\n",
        "s = spanish.groupby('season')\n",
        "g = german.groupby('season')"
      ],
      "execution_count": 0,
      "outputs": []
    },
    {
      "cell_type": "markdown",
      "metadata": {
        "id": "KBOH47ZXhzIk",
        "colab_type": "text"
      },
      "source": [
        "### Plotting total goals scored each season\n"
      ]
    },
    {
      "cell_type": "markdown",
      "metadata": {
        "id": "2wXbNhCZhzIl",
        "colab_type": "text"
      },
      "source": [
        "We plot the total number of goals scored by all team in each season. We plot this on pyplot."
      ]
    },
    {
      "cell_type": "code",
      "metadata": {
        "id": "BHYe0R_bhzIm",
        "colab_type": "code",
        "outputId": "929c1afe-16a8-4833-d23c-7e82965fef92",
        "colab": {
          "base_uri": "https://localhost:8080/",
          "height": 657
        }
      },
      "source": [
        "fig = plt.figure(figsize=(10, 10))\n",
        "plt.title(\"Total goals in each season\")\n",
        "plt.xticks(range(len(seasons)),seasons)\n",
        "plt.style.use('ggplot')\n",
        "plt.xlabel(\"Season\")\n",
        "plt.ylabel(\"Total Goals Scored\")\n",
        "num_seasons = range(len(seasons))\n",
        "\n",
        "plt.plot(num_seasons,e.total_goals.sum().values,label = \"English Premier League\", marker = 'o')\n",
        "plt.plot(num_seasons,g.total_goals.sum().values,label = \"German Bundesliga\", marker = 'o')\n",
        "plt.plot(num_seasons,s.total_goals.sum().values,label = \"Spanish La Liga\", marker = 'o')\n",
        "plt.legend()\n",
        "seasons"
      ],
      "execution_count": 0,
      "outputs": [
        {
          "output_type": "execute_result",
          "data": {
            "text/plain": [
              "array(['2008/2009', '2009/2010', '2010/2011', '2011/2012', '2012/2013',\n",
              "       '2013/2014', '2014/2015', '2015/2016'], dtype=object)"
            ]
          },
          "metadata": {
            "tags": []
          },
          "execution_count": 20
        },
        {
          "output_type": "display_data",
          "data": {
            "image/png": "[encoded data removed]",
            "text/plain": [
              "<Figure size 720x720 with 1 Axes>"
            ]
          },
          "metadata": {
            "tags": [],
            "needs_background": "light"
          }
        }
      ]
    },
    {
      "cell_type": "markdown",
      "metadata": {
        "id": "JUBIqJUVhzIp",
        "colab_type": "text"
      },
      "source": [
        "Inference: Spanish teams overall score more than the teams in Premier League and in Bundesliga. But the total goals in Bundesliga is low due to the fact that only 18 teams compete in the league. So each team in Bundesliga plays only 34 matches in a season whereas each team in premier league plays 38 matches. So the total games played in Premier League and La Liga is 380 whereas total games played in Bundesliga is 306."
      ]
    },
    {
      "cell_type": "markdown",
      "metadata": {
        "id": "o1PSFajghzIq",
        "colab_type": "text"
      },
      "source": [
        "### We calculate average goals scored in each game"
      ]
    },
    {
      "cell_type": "code",
      "metadata": {
        "id": "JdJyaRk2hzIr",
        "colab_type": "code",
        "outputId": "447e9f8e-c9e5-4997-d875-c8f63f6bdd7a",
        "colab": {
          "base_uri": "https://localhost:8080/",
          "height": 644
        }
      },
      "source": [
        "#Plotting average goals scored each season\n",
        "fig = plt.figure(figsize=(10, 10))\n",
        "plt.xticks(range(len(seasons)),seasons)\n",
        "plt.style.use('ggplot')\n",
        "plt.xlabel(\"Season\")\n",
        "plt.title(\"Average goals per game each season\")\n",
        "plt.ylabel(\"Average goals per game\")\n",
        "\n",
        "plt.plot(num_seasons,e.total_goals.mean().values,label = \"English Premier League\", marker = 'o')\n",
        "plt.plot(num_seasons,g.total_goals.mean().values,label = \"German Bundesliga\", marker = 'o')\n",
        "plt.plot(num_seasons,s.total_goals.mean().values,label = \"Spanish La Liga\", marker = 'o')\n",
        "plt.legend(loc = 2)\n"
      ],
      "execution_count": 0,
      "outputs": [
        {
          "output_type": "execute_result",
          "data": {
            "text/plain": [
              "<matplotlib.legend.Legend at 0x7f1fa3e5aba8>"
            ]
          },
          "metadata": {
            "tags": []
          },
          "execution_count": 21
        },
        {
          "output_type": "display_data",
          "data": {
            "image/png": "[encoded data removed]",
            "text/plain": [
              "<Figure size 720x720 with 1 Axes>"
            ]
          },
          "metadata": {
            "tags": []
          }
        }
      ]
    },
    {
      "cell_type": "markdown",
      "metadata": {
        "id": "38hRAa3XhzIu",
        "colab_type": "text"
      },
      "source": [
        "The Bundesliga teams score way more on average in each game that the teams in other leagues. In the 2013/2014 season, Bundesliga teams scored more than 3 goals each game on an average (967 goals in 306 matches - 3.16 per match). "
      ]
    },
    {
      "cell_type": "code",
      "metadata": {
        "id": "USoxPXM-hzIv",
        "colab_type": "code",
        "colab": {}
      },
      "source": [
        "average_goals_english = english.total_goals.mean()\n",
        "average_goals_spanish = spanish.total_goals.mean()\n",
        "average_goals_german = german.total_goals.mean()\n",
        "#print(\"{:.2}\".format(average_goals_english))\n",
        "#print(\"{:.2}\".format(average_goals_spanish))\n",
        "#print(\"{:.2}\".format(average_goals_german))"
      ],
      "execution_count": 0,
      "outputs": []
    },
    {
      "cell_type": "markdown",
      "metadata": {
        "id": "RpRFLIqWhzIz",
        "colab_type": "text"
      },
      "source": [
        " Average goals in the English Premier League is 2.7\n",
        "\n",
        " Average goals in the Spanish La Liga is 2.8\n",
        "\n",
        " Average goals in the Germany BundesLiga is 2.9"
      ]
    },
    {
      "cell_type": "code",
      "metadata": {
        "id": "ggexB-DxfH6S",
        "colab_type": "code",
        "colab": {}
      },
      "source": [
        ""
      ],
      "execution_count": 0,
      "outputs": []
    },
    {
      "cell_type": "markdown",
      "metadata": {
        "id": "qtBggAyVhzI0",
        "colab_type": "text"
      },
      "source": [
        "# Top Goal Scoring Team at Home"
      ]
    },
    {
      "cell_type": "markdown",
      "metadata": {
        "id": "BgrRB4HrhzI2",
        "colab_type": "text"
      },
      "source": [
        "To see which team scores the most goal when playing on home turf."
      ]
    },
    {
      "cell_type": "code",
      "metadata": {
        "id": "2kIoVVn7hzI3",
        "colab_type": "code",
        "colab": {}
      },
      "source": [
        "#Merging Home team and matches\n",
        "\n",
        "matches_h_teams = pd.merge(new_matches,teams,left_on='home_team_api_id', right_on='team_api_id')\n",
        "matches_h_teams = matches_h_teams.drop(['id','team_api_id','team_fifa_api_id'],axis = 1)\n",
        "matches_h_teams = matches_h_teams.rename(columns={'team_long_name':'home_team_long_name','name_y':'league_name','name':'country_name'})"
      ],
      "execution_count": 0,
      "outputs": []
    },
    {
      "cell_type": "code",
      "metadata": {
        "id": "cbltX3lohzI7",
        "colab_type": "code",
        "outputId": "6b87d84c-b62f-4289-c9b0-42b79b110da1",
        "colab": {
          "base_uri": "https://localhost:8080/",
          "height": 638
        }
      },
      "source": [
        "top_goal_scorers_home = matches_h_teams.groupby('home_team_long_name').total_goals.sum().sort_values(ascending = False)\n",
        "top_goal_scorers_home.head(15)\n",
        "%matplotlib inline \n",
        "fig = plt.figure(figsize = (10,8))\n",
        "ax = fig.add_subplot(1,1,1)\n",
        "rects = ax.bar(range(15), top_goal_scorers_home.head(15).values,align = \"center\")\n",
        "ax.set_xticks(range(15))\n",
        "ax.set_xticklabels(top_goal_scorers_home.head(15).index,rotation = \"vertical\")\n",
        "ax.set_title(\"Top goal scorers at home\")\n",
        "ax.set_ylabel(\"Number of goals\")\n",
        "ax.set_xlabel(\"Team name\")"
      ],
      "execution_count": 0,
      "outputs": [
        {
          "output_type": "execute_result",
          "data": {
            "text/plain": [
              "Text(0.5, 0, 'Team name')"
            ]
          },
          "metadata": {
            "tags": []
          },
          "execution_count": 24
        },
        {
          "output_type": "display_data",
          "data": {
            "image/png": "[encoded data removed]",
            "text/plain": [
              "<Figure size 720x576 with 1 Axes>"
            ]
          },
          "metadata": {
            "tags": [],
            "needs_background": "light"
          }
        }
      ]
    },
    {
      "cell_type": "markdown",
      "metadata": {
        "id": "fRcIUxithzI9",
        "colab_type": "text"
      },
      "source": [
        "# Top Goal Scoring Team at away\n"
      ]
    },
    {
      "cell_type": "markdown",
      "metadata": {
        "id": "dqhsaEWvhzI-",
        "colab_type": "text"
      },
      "source": [
        "To see which team scores the most in away matches."
      ]
    },
    {
      "cell_type": "code",
      "metadata": {
        "id": "6R3uBxEthzI_",
        "colab_type": "code",
        "colab": {}
      },
      "source": [
        "#Merging Away team and matches\n",
        "\n",
        "matches_a_teams = pd.merge(new_matches,teams,left_on='away_team_api_id', right_on='team_api_id')\n",
        "matches_a_teams = matches_a_teams.drop(['id','team_api_id','team_fifa_api_id'],axis = 1)\n",
        "matches_a_teams = matches_a_teams.rename(columns={'team_long_name':'away_team_long_name','name_y':'league_name','name':'country_name'})"
      ],
      "execution_count": 0,
      "outputs": []
    },
    {
      "cell_type": "code",
      "metadata": {
        "id": "nzFJl-tihzJD",
        "colab_type": "code",
        "outputId": "bc578303-a9d1-42f1-c9e9-b21f1560fd91",
        "colab": {
          "base_uri": "https://localhost:8080/",
          "height": 635
        }
      },
      "source": [
        "top_goal_scorers_away = matches_a_teams.groupby('away_team_long_name').total_goals.sum().sort_values(ascending = False)\n",
        "top_goal_scorers_away.head(15)\n",
        "%matplotlib inline \n",
        "fig = plt.figure(figsize = (10,8))\n",
        "ax = fig.add_subplot(1,1,1)\n",
        "rects = ax.bar(range(15), top_goal_scorers_away.head(15).values,align = \"center\")\n",
        "ax.set_xticks(range(15))\n",
        "ax.set_xticklabels(top_goal_scorers_away.head(15).index,rotation = \"vertical\")\n",
        "ax.set_title(\"Top goal scorers at away\")\n",
        "ax.set_ylabel(\"Number of goals\")\n",
        "ax.set_xlabel(\"Team name\")"
      ],
      "execution_count": 0,
      "outputs": [
        {
          "output_type": "execute_result",
          "data": {
            "text/plain": [
              "Text(0.5, 0, 'Team name')"
            ]
          },
          "metadata": {
            "tags": []
          },
          "execution_count": 26
        },
        {
          "output_type": "display_data",
          "data": {
            "image/png": "[encoded data removed]",
            "text/plain": [
              "<Figure size 720x576 with 1 Axes>"
            ]
          },
          "metadata": {
            "tags": [],
            "needs_background": "light"
          }
        }
      ]
    },
    {
      "cell_type": "code",
      "metadata": {
        "id": "mRUtSel8hzJH",
        "colab_type": "code",
        "outputId": "6fa8e2c1-3cfb-4316-bf08-4758a2922481",
        "colab": {
          "base_uri": "https://localhost:8080/",
          "height": 194
        }
      },
      "source": [
        "#select fields\n",
        "matches = matches3[matches3.league_id.isin(leagues.id)]\n",
        "matches = matches[['id', 'country_id' ,'league_id', 'season', 'stage', 'date','match_api_id', 'home_team_api_id', 'away_team_api_id','B365H', 'B365D' ,'B365A']]\n",
        "matches.dropna(inplace=True)\n",
        "matches.head()"
      ],
      "execution_count": 0,
      "outputs": [
        {
          "output_type": "execute_result",
          "data": {
            "text/html": [
              "<div>\n",
              "<style scoped>\n",
              "    .dataframe tbody tr th:only-of-type {\n",
              "        vertical-align: middle;\n",
              "    }\n",
              "\n",
              "    .dataframe tbody tr th {\n",
              "        vertical-align: top;\n",
              "    }\n",
              "\n",
              "    .dataframe thead th {\n",
              "        text-align: right;\n",
              "    }\n",
              "</style>\n",
              "<table border=\"1\" class=\"dataframe\">\n",
              "  <thead>\n",
              "    <tr style=\"text-align: right;\">\n",
              "      <th></th>\n",
              "      <th>id</th>\n",
              "      <th>country_id</th>\n",
              "      <th>league_id</th>\n",
              "      <th>season</th>\n",
              "      <th>stage</th>\n",
              "      <th>date</th>\n",
              "      <th>match_api_id</th>\n",
              "      <th>home_team_api_id</th>\n",
              "      <th>away_team_api_id</th>\n",
              "      <th>B365H</th>\n",
              "      <th>B365D</th>\n",
              "      <th>B365A</th>\n",
              "    </tr>\n",
              "  </thead>\n",
              "  <tbody>\n",
              "    <tr>\n",
              "      <th>1728</th>\n",
              "      <td>1729</td>\n",
              "      <td>1729</td>\n",
              "      <td>1729</td>\n",
              "      <td>2008/2009</td>\n",
              "      <td>1</td>\n",
              "      <td>2008-08-17 00:00:00</td>\n",
              "      <td>489042</td>\n",
              "      <td>10260</td>\n",
              "      <td>10261</td>\n",
              "      <td>1.29</td>\n",
              "      <td>5.5</td>\n",
              "      <td>11.00</td>\n",
              "    </tr>\n",
              "    <tr>\n",
              "      <th>1729</th>\n",
              "      <td>1730</td>\n",
              "      <td>1729</td>\n",
              "      <td>1729</td>\n",
              "      <td>2008/2009</td>\n",
              "      <td>1</td>\n",
              "      <td>2008-08-16 00:00:00</td>\n",
              "      <td>489043</td>\n",
              "      <td>9825</td>\n",
              "      <td>8659</td>\n",
              "      <td>1.20</td>\n",
              "      <td>6.5</td>\n",
              "      <td>15.00</td>\n",
              "    </tr>\n",
              "    <tr>\n",
              "      <th>1730</th>\n",
              "      <td>1731</td>\n",
              "      <td>1729</td>\n",
              "      <td>1729</td>\n",
              "      <td>2008/2009</td>\n",
              "      <td>1</td>\n",
              "      <td>2008-08-16 00:00:00</td>\n",
              "      <td>489044</td>\n",
              "      <td>8472</td>\n",
              "      <td>8650</td>\n",
              "      <td>5.50</td>\n",
              "      <td>3.6</td>\n",
              "      <td>1.67</td>\n",
              "    </tr>\n",
              "    <tr>\n",
              "      <th>1731</th>\n",
              "      <td>1732</td>\n",
              "      <td>1729</td>\n",
              "      <td>1729</td>\n",
              "      <td>2008/2009</td>\n",
              "      <td>1</td>\n",
              "      <td>2008-08-16 00:00:00</td>\n",
              "      <td>489045</td>\n",
              "      <td>8654</td>\n",
              "      <td>8528</td>\n",
              "      <td>1.91</td>\n",
              "      <td>3.4</td>\n",
              "      <td>4.20</td>\n",
              "    </tr>\n",
              "    <tr>\n",
              "      <th>1732</th>\n",
              "      <td>1733</td>\n",
              "      <td>1729</td>\n",
              "      <td>1729</td>\n",
              "      <td>2008/2009</td>\n",
              "      <td>1</td>\n",
              "      <td>2008-08-17 00:00:00</td>\n",
              "      <td>489046</td>\n",
              "      <td>10252</td>\n",
              "      <td>8456</td>\n",
              "      <td>1.91</td>\n",
              "      <td>3.4</td>\n",
              "      <td>4.33</td>\n",
              "    </tr>\n",
              "  </tbody>\n",
              "</table>\n",
              "</div>"
            ],
            "text/plain": [
              "        id  country_id  league_id  ... B365H  B365D  B365A\n",
              "1728  1729        1729       1729  ...  1.29    5.5  11.00\n",
              "1729  1730        1729       1729  ...  1.20    6.5  15.00\n",
              "1730  1731        1729       1729  ...  5.50    3.6   1.67\n",
              "1731  1732        1729       1729  ...  1.91    3.4   4.20\n",
              "1732  1733        1729       1729  ...  1.91    3.4   4.33\n",
              "\n",
              "[5 rows x 12 columns]"
            ]
          },
          "metadata": {
            "tags": []
          },
          "execution_count": 27
        }
      ]
    },
    {
      "cell_type": "code",
      "metadata": {
        "colab_type": "code",
        "outputId": "2b464b0b-94cd-471b-8e0f-ad86797ec6d9",
        "id": "8_9Xk0F4LpC5",
        "colab": {
          "base_uri": "https://localhost:8080/",
          "height": 76
        }
      },
      "source": [
        "# Considering English Premier League\n",
        "\n",
        "main_countries = ['England']\n",
        "countries = countries[countries.name.isin(main_countries)]\n",
        "leagues = countries.merge(leagues,on='id',suffixes=('', '_y'))\n",
        "seasons = matches.season.unique()\n",
        "leagues"
      ],
      "execution_count": 0,
      "outputs": [
        {
          "output_type": "execute_result",
          "data": {
            "text/html": [
              "<div>\n",
              "<style scoped>\n",
              "    .dataframe tbody tr th:only-of-type {\n",
              "        vertical-align: middle;\n",
              "    }\n",
              "\n",
              "    .dataframe tbody tr th {\n",
              "        vertical-align: top;\n",
              "    }\n",
              "\n",
              "    .dataframe thead th {\n",
              "        text-align: right;\n",
              "    }\n",
              "</style>\n",
              "<table border=\"1\" class=\"dataframe\">\n",
              "  <thead>\n",
              "    <tr style=\"text-align: right;\">\n",
              "      <th></th>\n",
              "      <th>id</th>\n",
              "      <th>name</th>\n",
              "      <th>name_y</th>\n",
              "      <th>country_id</th>\n",
              "      <th>name_y</th>\n",
              "    </tr>\n",
              "  </thead>\n",
              "  <tbody>\n",
              "    <tr>\n",
              "      <th>0</th>\n",
              "      <td>1729</td>\n",
              "      <td>England</td>\n",
              "      <td>England</td>\n",
              "      <td>1729</td>\n",
              "      <td>England Premier League</td>\n",
              "    </tr>\n",
              "  </tbody>\n",
              "</table>\n",
              "</div>"
            ],
            "text/plain": [
              "     id     name   name_y  country_id                  name_y\n",
              "0  1729  England  England        1729  England Premier League"
            ]
          },
          "metadata": {
            "tags": []
          },
          "execution_count": 28
        }
      ]
    },
    {
      "cell_type": "code",
      "metadata": {
        "colab_type": "code",
        "outputId": "d804e3fe-14d1-4e29-93f2-bc17dab0208f",
        "id": "CIq6jp_dLpC2",
        "colab": {
          "base_uri": "https://localhost:8080/",
          "height": 194
        }
      },
      "source": [
        "#Merge the leagues with corresponding matches\n",
        "\n",
        "req_matches = matches2[matches2.league_id.isin(leagues['id'])]\n",
        "req_matches = req_matches[['id','league_id','home_team_api_id','away_team_api_id','home_team_goal','away_team_goal','season']]\n",
        "req_matches[\"total_goals\"] = req_matches['home_team_goal'] + req_matches['away_team_goal']\n",
        "req_matches[\"result\"] = req_matches.apply(res,axis = 1)\n",
        "req_matches.dropna(inplace=True) \n",
        "req_matches.tail()"
      ],
      "execution_count": 0,
      "outputs": [
        {
          "output_type": "execute_result",
          "data": {
            "text/html": [
              "<div>\n",
              "<style scoped>\n",
              "    .dataframe tbody tr th:only-of-type {\n",
              "        vertical-align: middle;\n",
              "    }\n",
              "\n",
              "    .dataframe tbody tr th {\n",
              "        vertical-align: top;\n",
              "    }\n",
              "\n",
              "    .dataframe thead th {\n",
              "        text-align: right;\n",
              "    }\n",
              "</style>\n",
              "<table border=\"1\" class=\"dataframe\">\n",
              "  <thead>\n",
              "    <tr style=\"text-align: right;\">\n",
              "      <th></th>\n",
              "      <th>id</th>\n",
              "      <th>league_id</th>\n",
              "      <th>home_team_api_id</th>\n",
              "      <th>away_team_api_id</th>\n",
              "      <th>home_team_goal</th>\n",
              "      <th>away_team_goal</th>\n",
              "      <th>season</th>\n",
              "      <th>total_goals</th>\n",
              "      <th>result</th>\n",
              "    </tr>\n",
              "  </thead>\n",
              "  <tbody>\n",
              "    <tr>\n",
              "      <th>4763</th>\n",
              "      <td>4764</td>\n",
              "      <td>1729</td>\n",
              "      <td>8466</td>\n",
              "      <td>8197</td>\n",
              "      <td>2</td>\n",
              "      <td>2</td>\n",
              "      <td>2015/2016</td>\n",
              "      <td>4</td>\n",
              "      <td>0</td>\n",
              "    </tr>\n",
              "    <tr>\n",
              "      <th>4764</th>\n",
              "      <td>4765</td>\n",
              "      <td>1729</td>\n",
              "      <td>10003</td>\n",
              "      <td>10194</td>\n",
              "      <td>0</td>\n",
              "      <td>1</td>\n",
              "      <td>2015/2016</td>\n",
              "      <td>1</td>\n",
              "      <td>-1</td>\n",
              "    </tr>\n",
              "    <tr>\n",
              "      <th>4765</th>\n",
              "      <td>4766</td>\n",
              "      <td>1729</td>\n",
              "      <td>8586</td>\n",
              "      <td>8650</td>\n",
              "      <td>0</td>\n",
              "      <td>0</td>\n",
              "      <td>2015/2016</td>\n",
              "      <td>0</td>\n",
              "      <td>0</td>\n",
              "    </tr>\n",
              "    <tr>\n",
              "      <th>4766</th>\n",
              "      <td>4767</td>\n",
              "      <td>1729</td>\n",
              "      <td>9817</td>\n",
              "      <td>9825</td>\n",
              "      <td>0</td>\n",
              "      <td>3</td>\n",
              "      <td>2015/2016</td>\n",
              "      <td>3</td>\n",
              "      <td>-1</td>\n",
              "    </tr>\n",
              "    <tr>\n",
              "      <th>4767</th>\n",
              "      <td>4768</td>\n",
              "      <td>1729</td>\n",
              "      <td>8659</td>\n",
              "      <td>8472</td>\n",
              "      <td>1</td>\n",
              "      <td>0</td>\n",
              "      <td>2015/2016</td>\n",
              "      <td>1</td>\n",
              "      <td>1</td>\n",
              "    </tr>\n",
              "  </tbody>\n",
              "</table>\n",
              "</div>"
            ],
            "text/plain": [
              "        id  league_id  home_team_api_id  ...     season  total_goals  result\n",
              "4763  4764       1729              8466  ...  2015/2016            4       0\n",
              "4764  4765       1729             10003  ...  2015/2016            1      -1\n",
              "4765  4766       1729              8586  ...  2015/2016            0       0\n",
              "4766  4767       1729              9817  ...  2015/2016            3      -1\n",
              "4767  4768       1729              8659  ...  2015/2016            1       1\n",
              "\n",
              "[5 rows x 9 columns]"
            ]
          },
          "metadata": {
            "tags": []
          },
          "execution_count": 29
        }
      ]
    },
    {
      "cell_type": "markdown",
      "metadata": {
        "colab_type": "text",
        "id": "eRctKGf_LpCw"
      },
      "source": [
        "Home advantages always played important part in match outcome. But by what factor does home advantage affects the match."
      ]
    },
    {
      "cell_type": "markdown",
      "metadata": {
        "colab_type": "text",
        "id": "83CJzdVqLpCv"
      },
      "source": [
        "### Getting total number of goals scored in Home matches in the PL"
      ]
    },
    {
      "cell_type": "code",
      "metadata": {
        "colab_type": "code",
        "outputId": "f3971416-154a-41a7-f6e6-06d8b97796bd",
        "id": "Po5iInmSLpCt",
        "colab": {
          "base_uri": "https://localhost:8080/",
          "height": 644
        }
      },
      "source": [
        "#Plotting home scored each season\n",
        "fig = plt.figure(figsize=(10, 10))\n",
        "plt.xticks(range(len(seasons)),seasons)\n",
        "plt.style.use('ggplot')\n",
        "plt.title('Home goal each season (Premier League')\n",
        "plt.xlabel('Season')\n",
        "plt.ylabel('Home-goals')\n",
        "plt.plot(num_seasons,e.home_team_goal.sum().values,label = \"English Premier League\", marker = 'o')\n"
      ],
      "execution_count": 0,
      "outputs": [
        {
          "output_type": "execute_result",
          "data": {
            "text/plain": [
              "[<matplotlib.lines.Line2D at 0x7f1fa5a05a90>]"
            ]
          },
          "metadata": {
            "tags": []
          },
          "execution_count": 30
        },
        {
          "output_type": "display_data",
          "data": {
            "image/png": "[encoded data removed]",
            "text/plain": [
              "<Figure size 720x720 with 1 Axes>"
            ]
          },
          "metadata": {
            "tags": [],
            "needs_background": "light"
          }
        }
      ]
    },
    {
      "cell_type": "markdown",
      "metadata": {
        "colab_type": "text",
        "id": "cuZOFwVPLpCs"
      },
      "source": [
        "### Total number of goals scored in Away matches"
      ]
    },
    {
      "cell_type": "code",
      "metadata": {
        "colab_type": "code",
        "outputId": "47395e34-66dd-4477-bba7-2a7e9e340317",
        "id": "CS8BgTsjLpCp",
        "colab": {
          "base_uri": "https://localhost:8080/",
          "height": 644
        }
      },
      "source": [
        "#Plotting away scored each season\n",
        "fig = plt.figure(figsize=(10, 10))\n",
        "plt.xticks(range(len(seasons)),seasons)\n",
        "plt.style.use('ggplot')\n",
        "plt.title('Away goal each season')\n",
        "plt.xlabel('Season')\n",
        "plt.ylabel('Away-goals')\n",
        "plt.plot(num_seasons,e.away_team_goal.sum().values,label = \"English Premier League\", marker = 'o')\n"
      ],
      "execution_count": 0,
      "outputs": [
        {
          "output_type": "execute_result",
          "data": {
            "text/plain": [
              "[<matplotlib.lines.Line2D at 0x7f1fa4f0a0b8>]"
            ]
          },
          "metadata": {
            "tags": []
          },
          "execution_count": 31
        },
        {
          "output_type": "display_data",
          "data": {
            "image/png": "[encoded data removed]",
            "text/plain": [
              "<Figure size 720x720 with 1 Axes>"
            ]
          },
          "metadata": {
            "tags": []
          }
        }
      ]
    },
    {
      "cell_type": "markdown",
      "metadata": {
        "colab_type": "text",
        "id": "o19mNyv6LpCo"
      },
      "source": [
        "### Home goals to Away goals ratio (Premier League)"
      ]
    },
    {
      "cell_type": "code",
      "metadata": {
        "colab_type": "code",
        "outputId": "6d923a71-29e4-4877-eb7e-475ee71dc70a",
        "id": "lOfM34vOLpCk",
        "colab": {
          "base_uri": "https://localhost:8080/",
          "height": 644
        }
      },
      "source": [
        "#Plotting home/away scored each season\n",
        "fig = plt.figure(figsize=(10, 10))\n",
        "plt.xticks(range(len(seasons)),seasons)\n",
        "plt.style.use('ggplot')\n",
        "plt.title('Home-away goal ratio each season')\n",
        "plt.xlabel('Season')\n",
        "plt.ylabel('Home-goals to Away-goals ratio')\n",
        "plt.plot(num_seasons,e.home_team_goal.sum().values / e.away_team_goal.sum().values,label = \"English Premier League\", marker = 'o')\n"
      ],
      "execution_count": 0,
      "outputs": [
        {
          "output_type": "execute_result",
          "data": {
            "text/plain": [
              "[<matplotlib.lines.Line2D at 0x7f1fa3f934a8>]"
            ]
          },
          "metadata": {
            "tags": []
          },
          "execution_count": 32
        },
        {
          "output_type": "display_data",
          "data": {
            "image/png": "[encoded data removed]",
            "text/plain": [
              "<Figure size 720x720 with 1 Axes>"
            ]
          },
          "metadata": {
            "tags": []
          }
        }
      ]
    },
    {
      "cell_type": "markdown",
      "metadata": {
        "colab_type": "text",
        "id": "KBX_hA6ILpCj"
      },
      "source": [
        "### Home wins vs Home Loss"
      ]
    },
    {
      "cell_type": "code",
      "metadata": {
        "id": "ta2GJoYxmi6i",
        "colab_type": "code",
        "colab": {}
      },
      "source": [
        ""
      ],
      "execution_count": 0,
      "outputs": []
    },
    {
      "cell_type": "code",
      "metadata": {
        "colab_type": "code",
        "outputId": "137d19a7-dc8f-4a0d-d387-d92c60de5bc3",
        "id": "y6sv8uBiLpCg",
        "colab": {
          "base_uri": "https://localhost:8080/",
          "height": 661
        }
      },
      "source": [
        "#Subsetting homewins vs homeloss from each of the leagues - ignoring draws.\n",
        "e_hw = np.true_divide(english[english.result == 1].groupby('season').result.sum().values,english[english.result == -1].groupby('season').result.sum().values * -1)\n",
        "\n",
        "\n",
        "#Plotting number of home wins vs home losses each season\n",
        "fig = plt.figure(figsize=(10, 10))\n",
        "plt.xticks(range(len(seasons)),seasons)\n",
        "plt.style.use('ggplot')\n",
        "plt.xlim = (-20,20)\n",
        "plt.ylim = (0,120)\n",
        "plt.title(\"Number of home wins each vs home loss each season\")\n",
        "plt.xlabel(\"Season\")\n",
        "plt.ylabel(\"Home Wins vs loss\")\n",
        "plt.plot(num_seasons,e_hw,label = \"English Premier League\", marker = 'o')\n",
        "display(e_hw)"
      ],
      "execution_count": 0,
      "outputs": [
        {
          "output_type": "display_data",
          "data": {
            "text/plain": [
              "array([1.57272727, 2.12087912, 1.98888889, 1.47413793, 1.56603774,\n",
              "       1.45528455, 1.49565217, 1.35344828])"
            ]
          },
          "metadata": {
            "tags": []
          }
        },
        {
          "output_type": "display_data",
          "data": {
            "image/png": "[encoded data removed]",
            "text/plain": [
              "<Figure size 720x720 with 1 Axes>"
            ]
          },
          "metadata": {
            "tags": []
          }
        }
      ]
    },
    {
      "cell_type": "markdown",
      "metadata": {
        "colab_type": "text",
        "id": "j3oiCZPULpCf"
      },
      "source": [
        "We can clearly see that the home advantage in premier league is decreasing every season. Initially home matches were very good factor to determine the winner of the match. Now the matches have become very competitive and we cannot predict the match outcome just on the home advantage."
      ]
    },
    {
      "cell_type": "markdown",
      "metadata": {
        "colab_type": "text",
        "id": "mGA9ndMCLpCd"
      },
      "source": [
        "We downloaded the data of English Premier League from 2000 from http://football-data.co.uk/data.php"
      ]
    },
    {
      "cell_type": "code",
      "metadata": {
        "id": "J7Lc0KpoqCwH",
        "colab_type": "code",
        "colab": {}
      },
      "source": [
        ""
      ],
      "execution_count": 0,
      "outputs": []
    }
  ]
}