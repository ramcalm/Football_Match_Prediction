{
  "nbformat": 4,
  "nbformat_minor": 0,
  "metadata": {
    "colab": {
      "name": "DV_Prediction.ipynb",
      "provenance": [],
      "collapsed_sections": []
    },
    "kernelspec": {
      "name": "python3",
      "display_name": "Python 3"
    },
    "accelerator": "TPU"
  },
  "cells": [
    {
      "cell_type": "code",
      "metadata": {
        "id": "nGWxOR_LGJfJ",
        "colab_type": "code",
        "outputId": "081a8358-32af-4162-d6e0-3c626168759b",
        "colab": {
          "base_uri": "https://localhost:8080/",
          "height": 35
        }
      },
      "source": [
        "from google.colab import drive\n",
        "drive.mount('/content/gdrive')\n"
      ],
      "execution_count": 0,
      "outputs": [
        {
          "output_type": "stream",
          "text": [
            "Drive already mounted at /content/gdrive; to attempt to forcibly remount, call drive.mount(\"/content/gdrive\", force_remount=True).\n"
          ],
          "name": "stdout"
        }
      ]
    },
    {
      "cell_type": "code",
      "metadata": {
        "id": "w8avAFK_HTPk",
        "colab_type": "code",
        "colab": {}
      },
      "source": [
        "loc=\"//content//gdrive//My Drive//DataVisProj//Datasets//\""
      ],
      "execution_count": 0,
      "outputs": []
    },
    {
      "cell_type": "code",
      "metadata": {
        "id": "fr63Q9YfHvvv",
        "colab_type": "code",
        "colab": {}
      },
      "source": [
        "import warnings\n",
        "warnings.filterwarnings('ignore')"
      ],
      "execution_count": 0,
      "outputs": []
    },
    {
      "cell_type": "code",
      "metadata": {
        "id": "HrHBiyaMHlX9",
        "colab_type": "code",
        "colab": {}
      },
      "source": [
        "import numpy as np\n",
        "import pandas as pd"
      ],
      "execution_count": 0,
      "outputs": []
    },
    {
      "cell_type": "code",
      "metadata": {
        "id": "rF0xW0vgHsL_",
        "colab_type": "code",
        "colab": {}
      },
      "source": [
        "feature_table=pd.read_csv(loc+\"Feature_table.csv\")"
      ],
      "execution_count": 0,
      "outputs": []
    },
    {
      "cell_type": "code",
      "metadata": {
        "id": "_B9Io1iWZYnn",
        "colab_type": "code",
        "outputId": "aff925f4-2ead-481e-e60b-de5a83b52019",
        "colab": {
          "base_uri": "https://localhost:8080/",
          "height": 35
        }
      },
      "source": [
        "feature_table.shape"
      ],
      "execution_count": 0,
      "outputs": [
        {
          "output_type": "execute_result",
          "data": {
            "text/plain": [
              "(6080, 13)"
            ]
          },
          "metadata": {
            "tags": []
          },
          "execution_count": 6
        }
      ]
    },
    {
      "cell_type": "code",
      "metadata": {
        "id": "9OdHcX6FI40d",
        "colab_type": "code",
        "colab": {}
      },
      "source": [
        "def TransformResult(row):\n",
        "  if row.FTR=='H':\n",
        "    return 1\n",
        "  if row.FTR=='A':\n",
        "    return -1\n",
        "  if row.FTR=='D':\n",
        "    return 0"
      ],
      "execution_count": 0,
      "outputs": []
    },
    {
      "cell_type": "markdown",
      "metadata": {
        "id": "jnClG104ZmYz",
        "colab_type": "text"
      },
      "source": [
        ""
      ]
    },
    {
      "cell_type": "code",
      "metadata": {
        "id": "Lxscd_0CJkc6",
        "colab_type": "code",
        "colab": {}
      },
      "source": [
        "feature_table[\"Result\"] = feature_table.apply(lambda row: TransformResult(row),axis=1)"
      ],
      "execution_count": 0,
      "outputs": []
    },
    {
      "cell_type": "code",
      "metadata": {
        "id": "g3ApmuYOKF3i",
        "colab_type": "code",
        "outputId": "965a656d-8bdd-4ecb-c269-b750f19bae5b",
        "colab": {
          "base_uri": "https://localhost:8080/",
          "height": 194
        }
      },
      "source": [
        "feature_table.head()"
      ],
      "execution_count": 0,
      "outputs": [
        {
          "output_type": "execute_result",
          "data": {
            "text/html": [
              "<div>\n",
              "<style scoped>\n",
              "    .dataframe tbody tr th:only-of-type {\n",
              "        vertical-align: middle;\n",
              "    }\n",
              "\n",
              "    .dataframe tbody tr th {\n",
              "        vertical-align: top;\n",
              "    }\n",
              "\n",
              "    .dataframe thead th {\n",
              "        text-align: right;\n",
              "    }\n",
              "</style>\n",
              "<table border=\"1\" class=\"dataframe\">\n",
              "  <thead>\n",
              "    <tr style=\"text-align: right;\">\n",
              "      <th></th>\n",
              "      <th>Unnamed: 0</th>\n",
              "      <th>HomeTeam</th>\n",
              "      <th>AwayTeam</th>\n",
              "      <th>FTR</th>\n",
              "      <th>HST</th>\n",
              "      <th>AST</th>\n",
              "      <th>HC</th>\n",
              "      <th>AC</th>\n",
              "      <th>HAS</th>\n",
              "      <th>HDS</th>\n",
              "      <th>AAS</th>\n",
              "      <th>ADS</th>\n",
              "      <th>Result</th>\n",
              "    </tr>\n",
              "  </thead>\n",
              "  <tbody>\n",
              "    <tr>\n",
              "      <th>0</th>\n",
              "      <td>0</td>\n",
              "      <td>Charlton</td>\n",
              "      <td>Man City</td>\n",
              "      <td>H</td>\n",
              "      <td>14</td>\n",
              "      <td>4</td>\n",
              "      <td>6</td>\n",
              "      <td>6</td>\n",
              "      <td>1.056218</td>\n",
              "      <td>0.938272</td>\n",
              "      <td>1.037037</td>\n",
              "      <td>1.158433</td>\n",
              "      <td>1</td>\n",
              "    </tr>\n",
              "    <tr>\n",
              "      <th>1</th>\n",
              "      <td>1</td>\n",
              "      <td>Chelsea</td>\n",
              "      <td>West Ham</td>\n",
              "      <td>H</td>\n",
              "      <td>10</td>\n",
              "      <td>5</td>\n",
              "      <td>7</td>\n",
              "      <td>7</td>\n",
              "      <td>1.499148</td>\n",
              "      <td>0.987654</td>\n",
              "      <td>1.037037</td>\n",
              "      <td>1.022147</td>\n",
              "      <td>1</td>\n",
              "    </tr>\n",
              "    <tr>\n",
              "      <th>2</th>\n",
              "      <td>2</td>\n",
              "      <td>Coventry</td>\n",
              "      <td>Middlesbrough</td>\n",
              "      <td>A</td>\n",
              "      <td>3</td>\n",
              "      <td>9</td>\n",
              "      <td>8</td>\n",
              "      <td>4</td>\n",
              "      <td>0.477002</td>\n",
              "      <td>1.135802</td>\n",
              "      <td>1.283951</td>\n",
              "      <td>0.715503</td>\n",
              "      <td>-1</td>\n",
              "    </tr>\n",
              "    <tr>\n",
              "      <th>3</th>\n",
              "      <td>3</td>\n",
              "      <td>Derby</td>\n",
              "      <td>Southampton</td>\n",
              "      <td>D</td>\n",
              "      <td>4</td>\n",
              "      <td>6</td>\n",
              "      <td>5</td>\n",
              "      <td>8</td>\n",
              "      <td>0.783646</td>\n",
              "      <td>1.185185</td>\n",
              "      <td>0.641975</td>\n",
              "      <td>0.885860</td>\n",
              "      <td>0</td>\n",
              "    </tr>\n",
              "    <tr>\n",
              "      <th>4</th>\n",
              "      <td>4</td>\n",
              "      <td>Leeds</td>\n",
              "      <td>Everton</td>\n",
              "      <td>H</td>\n",
              "      <td>8</td>\n",
              "      <td>6</td>\n",
              "      <td>6</td>\n",
              "      <td>4</td>\n",
              "      <td>1.226576</td>\n",
              "      <td>1.037037</td>\n",
              "      <td>0.790123</td>\n",
              "      <td>1.090290</td>\n",
              "      <td>1</td>\n",
              "    </tr>\n",
              "  </tbody>\n",
              "</table>\n",
              "</div>"
            ],
            "text/plain": [
              "   Unnamed: 0  HomeTeam       AwayTeam  ...       AAS       ADS  Result\n",
              "0           0  Charlton       Man City  ...  1.037037  1.158433       1\n",
              "1           1   Chelsea       West Ham  ...  1.037037  1.022147       1\n",
              "2           2  Coventry  Middlesbrough  ...  1.283951  0.715503      -1\n",
              "3           3     Derby    Southampton  ...  0.641975  0.885860       0\n",
              "4           4     Leeds        Everton  ...  0.790123  1.090290       1\n",
              "\n",
              "[5 rows x 13 columns]"
            ]
          },
          "metadata": {
            "tags": []
          },
          "execution_count": 9
        }
      ]
    },
    {
      "cell_type": "markdown",
      "metadata": {
        "id": "u8JbWONzZqhM",
        "colab_type": "text"
      },
      "source": [
        ""
      ]
    },
    {
      "cell_type": "markdown",
      "metadata": {
        "colab_type": "text",
        "id": "5ndYwUZRLpCL"
      },
      "source": [
        "    FTR - Full Time Result\n",
        "    HST - Home Shots on Target\n",
        "    AST - Away Shots on Target\n",
        "    HC - Home Team Corner\n",
        "    AC - Away Team Corner\n",
        "    HAS - Home Team Attacking Strength\n",
        "    HDS - Home Team Defensive Strength\n",
        "    AAS - Away Team Attacking Strength\n",
        "    ADS - Away Team Defensive Strength"
      ]
    },
    {
      "cell_type": "code",
      "metadata": {
        "id": "xTpn556UKS32",
        "colab_type": "code",
        "colab": {}
      },
      "source": [
        "X=feature_table[['HomeTeam','AwayTeam','FTR','HST','AST','HC','AC','HAS','HDS','AAS','ADS']]\n",
        "y=feature_table['Result']"
      ],
      "execution_count": 0,
      "outputs": []
    },
    {
      "cell_type": "code",
      "metadata": {
        "id": "UKJnNUmqKjyb",
        "colab_type": "code",
        "colab": {}
      },
      "source": [
        "from sklearn.model_selection import train_test_split\n",
        "X_train, X_test, y_train, y_test = train_test_split(X, y, test_size=0.2,random_state=42,stratify=y)"
      ],
      "execution_count": 0,
      "outputs": []
    },
    {
      "cell_type": "code",
      "metadata": {
        "id": "lbXXMY8YK28J",
        "colab_type": "code",
        "outputId": "200b3f54-259c-4cb2-d79d-30645e635672",
        "colab": {
          "base_uri": "https://localhost:8080/",
          "height": 194
        }
      },
      "source": [
        "X_test.head()"
      ],
      "execution_count": 0,
      "outputs": [
        {
          "output_type": "execute_result",
          "data": {
            "text/html": [
              "<div>\n",
              "<style scoped>\n",
              "    .dataframe tbody tr th:only-of-type {\n",
              "        vertical-align: middle;\n",
              "    }\n",
              "\n",
              "    .dataframe tbody tr th {\n",
              "        vertical-align: top;\n",
              "    }\n",
              "\n",
              "    .dataframe thead th {\n",
              "        text-align: right;\n",
              "    }\n",
              "</style>\n",
              "<table border=\"1\" class=\"dataframe\">\n",
              "  <thead>\n",
              "    <tr style=\"text-align: right;\">\n",
              "      <th></th>\n",
              "      <th>HomeTeam</th>\n",
              "      <th>AwayTeam</th>\n",
              "      <th>FTR</th>\n",
              "      <th>HST</th>\n",
              "      <th>AST</th>\n",
              "      <th>HC</th>\n",
              "      <th>AC</th>\n",
              "      <th>HAS</th>\n",
              "      <th>HDS</th>\n",
              "      <th>AAS</th>\n",
              "      <th>ADS</th>\n",
              "    </tr>\n",
              "  </thead>\n",
              "  <tbody>\n",
              "    <tr>\n",
              "      <th>3728</th>\n",
              "      <td>Derby</td>\n",
              "      <td>Chelsea</td>\n",
              "      <td>A</td>\n",
              "      <td>2</td>\n",
              "      <td>7</td>\n",
              "      <td>1</td>\n",
              "      <td>9</td>\n",
              "      <td>0.783646</td>\n",
              "      <td>1.185185</td>\n",
              "      <td>1.185185</td>\n",
              "      <td>0.851789</td>\n",
              "    </tr>\n",
              "    <tr>\n",
              "      <th>833</th>\n",
              "      <td>Man City</td>\n",
              "      <td>Newcastle</td>\n",
              "      <td>A</td>\n",
              "      <td>7</td>\n",
              "      <td>9</td>\n",
              "      <td>10</td>\n",
              "      <td>8</td>\n",
              "      <td>0.681431</td>\n",
              "      <td>1.530864</td>\n",
              "      <td>0.888889</td>\n",
              "      <td>1.124361</td>\n",
              "    </tr>\n",
              "    <tr>\n",
              "      <th>1744</th>\n",
              "      <td>Ipswich</td>\n",
              "      <td>Leicester</td>\n",
              "      <td>H</td>\n",
              "      <td>9</td>\n",
              "      <td>3</td>\n",
              "      <td>8</td>\n",
              "      <td>1</td>\n",
              "      <td>1.056218</td>\n",
              "      <td>0.740741</td>\n",
              "      <td>0.543210</td>\n",
              "      <td>0.954003</td>\n",
              "    </tr>\n",
              "    <tr>\n",
              "      <th>5604</th>\n",
              "      <td>West Ham</td>\n",
              "      <td>Chelsea</td>\n",
              "      <td>A</td>\n",
              "      <td>2</td>\n",
              "      <td>6</td>\n",
              "      <td>1</td>\n",
              "      <td>0</td>\n",
              "      <td>0.817717</td>\n",
              "      <td>0.987654</td>\n",
              "      <td>1.185185</td>\n",
              "      <td>0.851789</td>\n",
              "    </tr>\n",
              "    <tr>\n",
              "      <th>3092</th>\n",
              "      <td>Everton</td>\n",
              "      <td>Man United</td>\n",
              "      <td>A</td>\n",
              "      <td>4</td>\n",
              "      <td>9</td>\n",
              "      <td>6</td>\n",
              "      <td>5</td>\n",
              "      <td>0.988075</td>\n",
              "      <td>1.333333</td>\n",
              "      <td>1.481481</td>\n",
              "      <td>0.647359</td>\n",
              "    </tr>\n",
              "  </tbody>\n",
              "</table>\n",
              "</div>"
            ],
            "text/plain": [
              "      HomeTeam    AwayTeam FTR  HST  ...       HAS       HDS       AAS       ADS\n",
              "3728     Derby     Chelsea   A    2  ...  0.783646  1.185185  1.185185  0.851789\n",
              "833   Man City   Newcastle   A    7  ...  0.681431  1.530864  0.888889  1.124361\n",
              "1744   Ipswich   Leicester   H    9  ...  1.056218  0.740741  0.543210  0.954003\n",
              "5604  West Ham     Chelsea   A    2  ...  0.817717  0.987654  1.185185  0.851789\n",
              "3092   Everton  Man United   A    4  ...  0.988075  1.333333  1.481481  0.647359\n",
              "\n",
              "[5 rows x 11 columns]"
            ]
          },
          "metadata": {
            "tags": []
          },
          "execution_count": 12
        }
      ]
    },
    {
      "cell_type": "code",
      "metadata": {
        "id": "Lzvpp_7IK5OY",
        "colab_type": "code",
        "outputId": "e26114b6-bb34-4d54-a515-54aa70d54bc6",
        "colab": {
          "base_uri": "https://localhost:8080/",
          "height": 35
        }
      },
      "source": [
        "X_train.shape,X_test.shape,y_train.shape,y_test.shape"
      ],
      "execution_count": 0,
      "outputs": [
        {
          "output_type": "execute_result",
          "data": {
            "text/plain": [
              "((4864, 11), (1216, 11), (4864,), (1216,))"
            ]
          },
          "metadata": {
            "tags": []
          },
          "execution_count": 13
        }
      ]
    },
    {
      "cell_type": "code",
      "metadata": {
        "id": "mntSU-4sK_XY",
        "colab_type": "code",
        "colab": {}
      },
      "source": [
        "X_feat=X_train[['HST','AST','HC','AC','HAS','HDS','AAS','ADS']]\n",
        "X_testfeat=X_test[['HST','AST','HC','AC','HAS','HDS','AAS','ADS']]"
      ],
      "execution_count": 0,
      "outputs": []
    },
    {
      "cell_type": "markdown",
      "metadata": {
        "id": "bZBkyoxnSSM6",
        "colab_type": "text"
      },
      "source": [
        "## Random Forest\n",
        "Random forest, like its name implies, consists of a large number of individual decision trees that operate as an ensemble. Each individual tree in the random forest spits out a class prediction and the class with the most votes becomes our model’s prediction The fundamental concept behind random forest is a simple but powerful one — the wisdom of crowds. In data science speak, the reason that the random forest model works so well is: A large number of relatively uncorrelated models (trees) operating as a committee will outperform any of the individual constituent models."
      ]
    },
    {
      "cell_type": "code",
      "metadata": {
        "id": "fqQQbhVeMFMU",
        "colab_type": "code",
        "colab": {}
      },
      "source": [
        "#Import Random Forest Model\n",
        "from sklearn.ensemble import RandomForestClassifier\n",
        "\n",
        "#Create a Gaussian Classifier\n",
        "RF1 = RandomForestClassifier(n_estimators=10,criterion='entropy', max_depth=7, random_state=0)\n",
        "\n",
        "#Train the model using the training sets y_pred=clf.predict(X_feat)\n",
        "RF1.fit(X_feat,y_train)\n",
        "RF1_test=RF1.predict(X_testfeat)\n",
        "RF1_train=RF1.predict(X_feat)"
      ],
      "execution_count": 0,
      "outputs": []
    },
    {
      "cell_type": "code",
      "metadata": {
        "id": "FdsZqB9LMaE6",
        "colab_type": "code",
        "colab": {}
      },
      "source": [
        "from sklearn import metrics"
      ],
      "execution_count": 0,
      "outputs": []
    },
    {
      "cell_type": "code",
      "metadata": {
        "id": "gV9mU6DnyFfc",
        "colab_type": "code",
        "outputId": "46fccf38-5422-4e2a-d553-8628127314a7",
        "colab": {
          "base_uri": "https://localhost:8080/",
          "height": 70
        }
      },
      "source": [
        "#Model Accuracy\n",
        "print(\"Random Forest Accuracy\")\n",
        "RFacc=metrics.accuracy_score(y_test,RF1_test)\n",
        "RFtrainacc=metrics.accuracy_score(y_train,RF1_train)\n",
        "print(\"Test Accuracy:\",metrics.accuracy_score(y_test, RF1_test))\n",
        "print(\"Train Accuracy: \",RFtrainacc)"
      ],
      "execution_count": 0,
      "outputs": [
        {
          "output_type": "stream",
          "text": [
            "Random Forest Accuracy\n",
            "Test Accuracy: 0.8856907894736842\n",
            "Train Accuracy:  0.903577302631579\n"
          ],
          "name": "stdout"
        }
      ]
    },
    {
      "cell_type": "code",
      "metadata": {
        "id": "epjRl_N6NQiz",
        "colab_type": "code",
        "colab": {}
      },
      "source": [
        "RFpred=pd.DataFrame({'Predicted': RF1_test})"
      ],
      "execution_count": 0,
      "outputs": []
    },
    {
      "cell_type": "code",
      "metadata": {
        "id": "M0jWm9CuPH8Y",
        "colab_type": "code",
        "colab": {}
      },
      "source": [
        "def TransformPred(row):\n",
        "  if row.Predicted==-1:\n",
        "    return \"AWAY\"\n",
        "  if row.Predicted==1:\n",
        "    return \"HOME\"\n",
        "  if row.Predicted==0:\n",
        "    return \"DRAW\""
      ],
      "execution_count": 0,
      "outputs": []
    },
    {
      "cell_type": "code",
      "metadata": {
        "id": "T8JgeVLuPPl8",
        "colab_type": "code",
        "colab": {}
      },
      "source": [
        "RFpred[\"RF\"] = RFpred.apply(lambda row: TransformPred(row),axis=1)"
      ],
      "execution_count": 0,
      "outputs": []
    },
    {
      "cell_type": "code",
      "metadata": {
        "id": "IcFhhi_bQcle",
        "colab_type": "code",
        "outputId": "ccd02145-f9d1-42a5-dc05-ca324d8a7612",
        "colab": {
          "base_uri": "https://localhost:8080/",
          "height": 194
        }
      },
      "source": [
        "RFpred.head()"
      ],
      "execution_count": 0,
      "outputs": [
        {
          "output_type": "execute_result",
          "data": {
            "text/html": [
              "<div>\n",
              "<style scoped>\n",
              "    .dataframe tbody tr th:only-of-type {\n",
              "        vertical-align: middle;\n",
              "    }\n",
              "\n",
              "    .dataframe tbody tr th {\n",
              "        vertical-align: top;\n",
              "    }\n",
              "\n",
              "    .dataframe thead th {\n",
              "        text-align: right;\n",
              "    }\n",
              "</style>\n",
              "<table border=\"1\" class=\"dataframe\">\n",
              "  <thead>\n",
              "    <tr style=\"text-align: right;\">\n",
              "      <th></th>\n",
              "      <th>Predicted</th>\n",
              "      <th>RF</th>\n",
              "    </tr>\n",
              "  </thead>\n",
              "  <tbody>\n",
              "    <tr>\n",
              "      <th>0</th>\n",
              "      <td>-1</td>\n",
              "      <td>AWAY</td>\n",
              "    </tr>\n",
              "    <tr>\n",
              "      <th>1</th>\n",
              "      <td>-1</td>\n",
              "      <td>AWAY</td>\n",
              "    </tr>\n",
              "    <tr>\n",
              "      <th>2</th>\n",
              "      <td>1</td>\n",
              "      <td>HOME</td>\n",
              "    </tr>\n",
              "    <tr>\n",
              "      <th>3</th>\n",
              "      <td>-1</td>\n",
              "      <td>AWAY</td>\n",
              "    </tr>\n",
              "    <tr>\n",
              "      <th>4</th>\n",
              "      <td>-1</td>\n",
              "      <td>AWAY</td>\n",
              "    </tr>\n",
              "  </tbody>\n",
              "</table>\n",
              "</div>"
            ],
            "text/plain": [
              "   Predicted    RF\n",
              "0         -1  AWAY\n",
              "1         -1  AWAY\n",
              "2          1  HOME\n",
              "3         -1  AWAY\n",
              "4         -1  AWAY"
            ]
          },
          "metadata": {
            "tags": []
          },
          "execution_count": 21
        }
      ]
    },
    {
      "cell_type": "markdown",
      "metadata": {
        "id": "Jbs8KuaISckH",
        "colab_type": "text"
      },
      "source": [
        "## Multinomial Naive Bayes\n",
        "A Naive Bayes classifier is a probabilistic machine learning model that’s used for classification task. The crux of the classifier is based on the Bayes theorem.\n",
        "\n",
        "Multinomial Naive Bayes: This is mostly used for document classification problem, i.e whether a document belongs to the category of sports, politics, technology etc. The features/predictors used by the classifier are the frequency of the words present in the document."
      ]
    },
    {
      "cell_type": "code",
      "metadata": {
        "id": "mwZwgd2-SnBt",
        "colab_type": "code",
        "colab": {}
      },
      "source": [
        "from sklearn.naive_bayes import MultinomialNB\n",
        "from sklearn.model_selection import cross_val_score\n"
      ],
      "execution_count": 0,
      "outputs": []
    },
    {
      "cell_type": "code",
      "metadata": {
        "id": "uflKY9TlVIZ1",
        "colab_type": "code",
        "outputId": "7986bf24-e9c4-42f6-c54e-50084bfdc648",
        "colab": {
          "base_uri": "https://localhost:8080/",
          "height": 372
        }
      },
      "source": [
        "#Choosing optimum alpha for NB Classifier\n",
        "nbb_scores = []\n",
        "for i in range(0,1000,50):\n",
        "    mnb = MultinomialNB(alpha=i)\n",
        "    mnb.fit(X_feat,y_train)\n",
        "    scores = cross_val_score(mnb, X_feat, y_train, cv=10)\n",
        "    print (\"NB alpha \",i,\" : \", scores.mean())\n",
        "    nbb_scores.append(scores.mean())  "
      ],
      "execution_count": 0,
      "outputs": [
        {
          "output_type": "stream",
          "text": [
            "NB alpha  0  :  0.5598296448399117\n",
            "NB alpha  50  :  0.5612682840266686\n",
            "NB alpha  100  :  0.5627081907369382\n",
            "NB alpha  150  :  0.5645604650966275\n",
            "NB alpha  200  :  0.5620934418333461\n",
            "NB alpha  250  :  0.5614786929297539\n",
            "NB alpha  300  :  0.5602453925520318\n",
            "NB alpha  350  :  0.5606564926779392\n",
            "NB alpha  400  :  0.5592186985068572\n",
            "NB alpha  450  :  0.5596306436484397\n",
            "NB alpha  500  :  0.5592182759990199\n",
            "NB alpha  550  :  0.5594240373158922\n",
            "NB alpha  600  :  0.5614799604532665\n",
            "NB alpha  650  :  0.5616857217701389\n",
            "NB alpha  700  :  0.5610701278508716\n",
            "NB alpha  750  :  0.5573685366863556\n",
            "NB alpha  800  :  0.5571606628302954\n",
            "NB alpha  850  :  0.5602437025206818\n",
            "NB alpha  900  :  0.5600375186959718\n",
            "NB alpha  950  :  0.5592153184441571\n"
          ],
          "name": "stdout"
        }
      ]
    },
    {
      "cell_type": "markdown",
      "metadata": {
        "id": "Ec503HjgVwA1",
        "colab_type": "text"
      },
      "source": [
        "Accuracy is maximum for alpha=150. So we train the Naive-Bayes Classifier with alpha=150"
      ]
    },
    {
      "cell_type": "code",
      "metadata": {
        "id": "uTMeucedVd_8",
        "colab_type": "code",
        "colab": {}
      },
      "source": [
        "#Create a MNB Classifier\n",
        "MNB1 = MultinomialNB(alpha=150)\n",
        "MNB1.fit(X_feat,y_train)\n",
        "MNB1_test=MNB1.predict(X_testfeat)\n",
        "MNB1_train=MNB1.predict(X_feat)"
      ],
      "execution_count": 0,
      "outputs": []
    },
    {
      "cell_type": "code",
      "metadata": {
        "id": "Sle6yuGpt9Sy",
        "colab_type": "code",
        "outputId": "a3b1c541-c4cf-4dcd-a015-92e4e17f12b3",
        "colab": {
          "base_uri": "https://localhost:8080/",
          "height": 70
        }
      },
      "source": [
        "# Model Accuracy\n",
        "print(\"Multinominal-Naive-Bayes Accuracy\")\n",
        "MNBaccuracy=metrics.accuracy_score(y_test, MNB1_test)\n",
        "MNBtrainacc=metrics.accuracy_score(y_train,MNB1_train)\n",
        "print(\"Test Accuracy:\",metrics.accuracy_score(y_test, MNB1_test))\n",
        "print(\"Train Accuracy:\",MNBtrainacc)"
      ],
      "execution_count": 0,
      "outputs": [
        {
          "output_type": "stream",
          "text": [
            "Multinominal-Naive-Bayes Accuracy\n",
            "Test Accuracy: 0.5674342105263158\n",
            "Train Accuracy: 0.5653782894736842\n"
          ],
          "name": "stdout"
        }
      ]
    },
    {
      "cell_type": "code",
      "metadata": {
        "id": "p3smkEhNuP9M",
        "colab_type": "code",
        "colab": {}
      },
      "source": [
        "MNBpred=pd.DataFrame({'Predicted': MNB1_test})"
      ],
      "execution_count": 0,
      "outputs": []
    },
    {
      "cell_type": "code",
      "metadata": {
        "id": "pDzQIqNUuhO4",
        "colab_type": "code",
        "colab": {}
      },
      "source": [
        "MNBpred[\"MNB\"] = MNBpred.apply(lambda row: TransformPred(row),axis=1)"
      ],
      "execution_count": 0,
      "outputs": []
    },
    {
      "cell_type": "code",
      "metadata": {
        "id": "lzq3PUV2uu5e",
        "colab_type": "code",
        "outputId": "c355104c-9877-49d9-bda6-b68db05b2121",
        "colab": {
          "base_uri": "https://localhost:8080/",
          "height": 194
        }
      },
      "source": [
        "MNBpred.head()"
      ],
      "execution_count": 0,
      "outputs": [
        {
          "output_type": "execute_result",
          "data": {
            "text/html": [
              "<div>\n",
              "<style scoped>\n",
              "    .dataframe tbody tr th:only-of-type {\n",
              "        vertical-align: middle;\n",
              "    }\n",
              "\n",
              "    .dataframe tbody tr th {\n",
              "        vertical-align: top;\n",
              "    }\n",
              "\n",
              "    .dataframe thead th {\n",
              "        text-align: right;\n",
              "    }\n",
              "</style>\n",
              "<table border=\"1\" class=\"dataframe\">\n",
              "  <thead>\n",
              "    <tr style=\"text-align: right;\">\n",
              "      <th></th>\n",
              "      <th>Predicted</th>\n",
              "      <th>MNB</th>\n",
              "    </tr>\n",
              "  </thead>\n",
              "  <tbody>\n",
              "    <tr>\n",
              "      <th>0</th>\n",
              "      <td>-1</td>\n",
              "      <td>AWAY</td>\n",
              "    </tr>\n",
              "    <tr>\n",
              "      <th>1</th>\n",
              "      <td>-1</td>\n",
              "      <td>AWAY</td>\n",
              "    </tr>\n",
              "    <tr>\n",
              "      <th>2</th>\n",
              "      <td>1</td>\n",
              "      <td>HOME</td>\n",
              "    </tr>\n",
              "    <tr>\n",
              "      <th>3</th>\n",
              "      <td>-1</td>\n",
              "      <td>AWAY</td>\n",
              "    </tr>\n",
              "    <tr>\n",
              "      <th>4</th>\n",
              "      <td>-1</td>\n",
              "      <td>AWAY</td>\n",
              "    </tr>\n",
              "  </tbody>\n",
              "</table>\n",
              "</div>"
            ],
            "text/plain": [
              "   Predicted   MNB\n",
              "0         -1  AWAY\n",
              "1         -1  AWAY\n",
              "2          1  HOME\n",
              "3         -1  AWAY\n",
              "4         -1  AWAY"
            ]
          },
          "metadata": {
            "tags": []
          },
          "execution_count": 28
        }
      ]
    },
    {
      "cell_type": "markdown",
      "metadata": {
        "id": "CuyOhDMzvd3r",
        "colab_type": "text"
      },
      "source": [
        "## Logistic Regression\n",
        "Logistic regression is named for the function used at the core of the method, the logistic function.\n",
        "\n",
        "The logistic function, also called the sigmoid function was developed by statisticians to describe properties of population growth in ecology, rising quickly and maxing out at the carrying capacity of the environment. It’s an S-shaped curve that can take any real-valued number and map it into a value between 0 and 1, but never exactly at those limits.\n",
        "\n",
        "1 / (1 + e^-value)"
      ]
    },
    {
      "cell_type": "code",
      "metadata": {
        "id": "NGSUUN1mu2fK",
        "colab_type": "code",
        "colab": {}
      },
      "source": [
        "from sklearn.linear_model import LogisticRegression"
      ],
      "execution_count": 0,
      "outputs": []
    },
    {
      "cell_type": "code",
      "metadata": {
        "id": "SXkL2tGqv6Ex",
        "colab_type": "code",
        "colab": {}
      },
      "source": [
        "lr=LogisticRegression()\n",
        "lr.fit(X_feat,y_train)\n",
        "lr1_test=lr.predict(X_testfeat)\n",
        "lr1_train=lr.predict(X_feat)"
      ],
      "execution_count": 0,
      "outputs": []
    },
    {
      "cell_type": "code",
      "metadata": {
        "id": "a0w9oqOKwGJp",
        "colab_type": "code",
        "outputId": "6b8ba35a-dd1b-4d28-f682-4612daf1a7d2",
        "colab": {
          "base_uri": "https://localhost:8080/",
          "height": 70
        }
      },
      "source": [
        "# Model Accuracy\n",
        "print(\"Logistic Regression Accuracy:\")\n",
        "LRaccuracy=metrics.accuracy_score(y_test, lr1_test)\n",
        "LRtrainacc=metrics.accuracy_score(y_train,lr1_train)\n",
        "print(\"Test Accuracy:\",metrics.accuracy_score(y_test, lr1_test))\n",
        "print(\"Train Accuracy:\",LRtrainacc)"
      ],
      "execution_count": 0,
      "outputs": [
        {
          "output_type": "stream",
          "text": [
            "Logistic Regression Accuracy:\n",
            "Test Accuracy: 0.5929276315789473\n",
            "Train Accuracy: 0.5984786184210527\n"
          ],
          "name": "stdout"
        }
      ]
    },
    {
      "cell_type": "code",
      "metadata": {
        "id": "pW9B6DE7xnOG",
        "colab_type": "code",
        "colab": {}
      },
      "source": [
        "LRpred=pd.DataFrame({'Predicted': lr1_test})"
      ],
      "execution_count": 0,
      "outputs": []
    },
    {
      "cell_type": "code",
      "metadata": {
        "id": "nXYF7gdYzh5T",
        "colab_type": "code",
        "colab": {}
      },
      "source": [
        "LRpred[\"LR\"] = LRpred.apply(lambda row: TransformPred(row),axis=1)"
      ],
      "execution_count": 0,
      "outputs": []
    },
    {
      "cell_type": "code",
      "metadata": {
        "id": "5tJGko7bzpfL",
        "colab_type": "code",
        "outputId": "a63cf35e-7c9f-47c5-ebb4-95b43e0341af",
        "colab": {
          "base_uri": "https://localhost:8080/",
          "height": 194
        }
      },
      "source": [
        "LRpred.head()"
      ],
      "execution_count": 0,
      "outputs": [
        {
          "output_type": "execute_result",
          "data": {
            "text/html": [
              "<div>\n",
              "<style scoped>\n",
              "    .dataframe tbody tr th:only-of-type {\n",
              "        vertical-align: middle;\n",
              "    }\n",
              "\n",
              "    .dataframe tbody tr th {\n",
              "        vertical-align: top;\n",
              "    }\n",
              "\n",
              "    .dataframe thead th {\n",
              "        text-align: right;\n",
              "    }\n",
              "</style>\n",
              "<table border=\"1\" class=\"dataframe\">\n",
              "  <thead>\n",
              "    <tr style=\"text-align: right;\">\n",
              "      <th></th>\n",
              "      <th>Predicted</th>\n",
              "      <th>LR</th>\n",
              "    </tr>\n",
              "  </thead>\n",
              "  <tbody>\n",
              "    <tr>\n",
              "      <th>0</th>\n",
              "      <td>-1</td>\n",
              "      <td>AWAY</td>\n",
              "    </tr>\n",
              "    <tr>\n",
              "      <th>1</th>\n",
              "      <td>-1</td>\n",
              "      <td>AWAY</td>\n",
              "    </tr>\n",
              "    <tr>\n",
              "      <th>2</th>\n",
              "      <td>1</td>\n",
              "      <td>HOME</td>\n",
              "    </tr>\n",
              "    <tr>\n",
              "      <th>3</th>\n",
              "      <td>-1</td>\n",
              "      <td>AWAY</td>\n",
              "    </tr>\n",
              "    <tr>\n",
              "      <th>4</th>\n",
              "      <td>-1</td>\n",
              "      <td>AWAY</td>\n",
              "    </tr>\n",
              "  </tbody>\n",
              "</table>\n",
              "</div>"
            ],
            "text/plain": [
              "   Predicted    LR\n",
              "0         -1  AWAY\n",
              "1         -1  AWAY\n",
              "2          1  HOME\n",
              "3         -1  AWAY\n",
              "4         -1  AWAY"
            ]
          },
          "metadata": {
            "tags": []
          },
          "execution_count": 34
        }
      ]
    },
    {
      "cell_type": "markdown",
      "metadata": {
        "id": "tKV-ySOr0_yc",
        "colab_type": "text"
      },
      "source": [
        "### Neural Network - Multi Layer Perceptron\n"
      ]
    },
    {
      "cell_type": "code",
      "metadata": {
        "id": "57CpEOjh3QDO",
        "colab_type": "code",
        "colab": {}
      },
      "source": [
        "from sklearn.neural_network import MLPClassifier"
      ],
      "execution_count": 0,
      "outputs": []
    },
    {
      "cell_type": "code",
      "metadata": {
        "id": "xssWxhDj3Q12",
        "colab_type": "code",
        "colab": {}
      },
      "source": [
        "MLPclass = MLPClassifier(hidden_layer_sizes=(50,50,50), max_iter=500, alpha=0.001,\n",
        "                     solver='sgd', verbose=10,  random_state=21,tol=0.000000001)"
      ],
      "execution_count": 0,
      "outputs": []
    },
    {
      "cell_type": "code",
      "metadata": {
        "id": "IeyfBmlcb_W2",
        "colab_type": "code",
        "outputId": "cdf4d617-73d3-4a62-9ade-3a3db4282693",
        "colab": {
          "base_uri": "https://localhost:8080/",
          "height": 1000
        }
      },
      "source": [
        "MLPclass.fit(X_feat,y_train)"
      ],
      "execution_count": 0,
      "outputs": [
        {
          "output_type": "stream",
          "text": [
            "Iteration 1, loss = 1.12427413\n",
            "Iteration 2, loss = 1.00559882\n",
            "Iteration 3, loss = 0.95764328\n",
            "Iteration 4, loss = 0.92738937\n",
            "Iteration 5, loss = 0.90751654\n",
            "Iteration 6, loss = 0.89330366\n",
            "Iteration 7, loss = 0.88437598\n",
            "Iteration 8, loss = 0.87742890\n",
            "Iteration 9, loss = 0.87344238\n",
            "Iteration 10, loss = 0.86870577\n",
            "Iteration 11, loss = 0.86525000\n",
            "Iteration 12, loss = 0.86259515\n",
            "Iteration 13, loss = 0.86024107\n",
            "Iteration 14, loss = 0.85807829\n",
            "Iteration 15, loss = 0.85597830\n",
            "Iteration 16, loss = 0.85336180\n",
            "Iteration 17, loss = 0.85144554\n",
            "Iteration 18, loss = 0.84999262\n",
            "Iteration 19, loss = 0.84751776\n",
            "Iteration 20, loss = 0.84517305\n",
            "Iteration 21, loss = 0.84467796\n",
            "Iteration 22, loss = 0.84215655\n",
            "Iteration 23, loss = 0.84035872\n",
            "Iteration 24, loss = 0.83860763\n",
            "Iteration 25, loss = 0.83748877\n",
            "Iteration 26, loss = 0.83583547\n",
            "Iteration 27, loss = 0.83409205\n",
            "Iteration 28, loss = 0.83182047\n",
            "Iteration 29, loss = 0.83073438\n",
            "Iteration 30, loss = 0.82889884\n",
            "Iteration 31, loss = 0.82807770\n",
            "Iteration 32, loss = 0.82588275\n",
            "Iteration 33, loss = 0.82491894\n",
            "Iteration 34, loss = 0.82306684\n",
            "Iteration 35, loss = 0.82213452\n",
            "Iteration 36, loss = 0.82097549\n",
            "Iteration 37, loss = 0.81887719\n",
            "Iteration 38, loss = 0.81730548\n",
            "Iteration 39, loss = 0.81632748\n",
            "Iteration 40, loss = 0.81366916\n",
            "Iteration 41, loss = 0.81305833\n",
            "Iteration 42, loss = 0.81107804\n",
            "Iteration 43, loss = 0.80914264\n",
            "Iteration 44, loss = 0.80811156\n",
            "Iteration 45, loss = 0.80658072\n",
            "Iteration 46, loss = 0.80557697\n",
            "Iteration 47, loss = 0.80405285\n",
            "Iteration 48, loss = 0.80190849\n",
            "Iteration 49, loss = 0.80080099\n",
            "Iteration 50, loss = 0.79839916\n",
            "Iteration 51, loss = 0.79740858\n",
            "Iteration 52, loss = 0.79659366\n",
            "Iteration 53, loss = 0.79530063\n",
            "Iteration 54, loss = 0.79384144\n",
            "Iteration 55, loss = 0.79164396\n",
            "Iteration 56, loss = 0.79121068\n",
            "Iteration 57, loss = 0.78943559\n",
            "Iteration 58, loss = 0.78836174\n",
            "Iteration 59, loss = 0.78735628\n",
            "Iteration 60, loss = 0.78575679\n",
            "Iteration 61, loss = 0.78554850\n",
            "Iteration 62, loss = 0.78491514\n",
            "Iteration 63, loss = 0.78280721\n",
            "Iteration 64, loss = 0.78241568\n",
            "Iteration 65, loss = 0.78118441\n",
            "Iteration 66, loss = 0.77987901\n",
            "Iteration 67, loss = 0.77914700\n",
            "Iteration 68, loss = 0.77895238\n",
            "Iteration 69, loss = 0.77755527\n",
            "Iteration 70, loss = 0.77688294\n",
            "Iteration 71, loss = 0.77551307\n",
            "Iteration 72, loss = 0.77449927\n",
            "Iteration 73, loss = 0.77373328\n",
            "Iteration 74, loss = 0.77284947\n",
            "Iteration 75, loss = 0.77183401\n",
            "Iteration 76, loss = 0.77129326\n",
            "Iteration 77, loss = 0.77018135\n",
            "Iteration 78, loss = 0.76956786\n",
            "Iteration 79, loss = 0.77041294\n",
            "Iteration 80, loss = 0.76809420\n",
            "Iteration 81, loss = 0.76777995\n",
            "Iteration 82, loss = 0.76731694\n",
            "Iteration 83, loss = 0.76528064\n",
            "Iteration 84, loss = 0.76514189\n",
            "Iteration 85, loss = 0.76582440\n",
            "Iteration 86, loss = 0.76468636\n",
            "Iteration 87, loss = 0.76242732\n",
            "Iteration 88, loss = 0.76187868\n",
            "Iteration 89, loss = 0.76105285\n",
            "Iteration 90, loss = 0.76022612\n",
            "Iteration 91, loss = 0.76052894\n",
            "Iteration 92, loss = 0.75952138\n",
            "Iteration 93, loss = 0.75817998\n",
            "Iteration 94, loss = 0.75881573\n",
            "Iteration 95, loss = 0.75704329\n",
            "Iteration 96, loss = 0.75760960\n",
            "Iteration 97, loss = 0.75773269\n",
            "Iteration 98, loss = 0.75602526\n",
            "Iteration 99, loss = 0.75457852\n",
            "Iteration 100, loss = 0.75375713\n",
            "Iteration 101, loss = 0.75262496\n",
            "Iteration 102, loss = 0.75134086\n",
            "Iteration 103, loss = 0.75076258\n",
            "Iteration 104, loss = 0.75053097\n",
            "Iteration 105, loss = 0.75030717\n",
            "Iteration 106, loss = 0.74975398\n",
            "Iteration 107, loss = 0.74761296\n",
            "Iteration 108, loss = 0.74713227\n",
            "Iteration 109, loss = 0.74912892\n",
            "Iteration 110, loss = 0.74586271\n",
            "Iteration 111, loss = 0.74692834\n",
            "Iteration 112, loss = 0.74466298\n",
            "Iteration 113, loss = 0.74474347\n",
            "Iteration 114, loss = 0.74361454\n",
            "Iteration 115, loss = 0.74387673\n",
            "Iteration 116, loss = 0.74154627\n",
            "Iteration 117, loss = 0.74130049\n",
            "Iteration 118, loss = 0.74173863\n",
            "Iteration 119, loss = 0.73993366\n",
            "Iteration 120, loss = 0.73961812\n",
            "Iteration 121, loss = 0.73852430\n",
            "Iteration 122, loss = 0.73818963\n",
            "Iteration 123, loss = 0.73758909\n",
            "Iteration 124, loss = 0.73595033\n",
            "Iteration 125, loss = 0.73702481\n",
            "Iteration 126, loss = 0.73490795\n",
            "Iteration 127, loss = 0.73538141\n",
            "Iteration 128, loss = 0.73424816\n",
            "Iteration 129, loss = 0.73318066\n",
            "Iteration 130, loss = 0.73309650\n",
            "Iteration 131, loss = 0.73328977\n",
            "Iteration 132, loss = 0.73128628\n",
            "Iteration 133, loss = 0.72993569\n",
            "Iteration 134, loss = 0.72942898\n",
            "Iteration 135, loss = 0.72685896\n",
            "Iteration 136, loss = 0.72813336\n",
            "Iteration 137, loss = 0.72760689\n",
            "Iteration 138, loss = 0.72794392\n",
            "Iteration 139, loss = 0.72759989\n",
            "Iteration 140, loss = 0.72585701\n",
            "Iteration 141, loss = 0.72465156\n",
            "Iteration 142, loss = 0.72484281\n",
            "Iteration 143, loss = 0.72302913\n",
            "Iteration 144, loss = 0.72274160\n",
            "Iteration 145, loss = 0.72147982\n",
            "Iteration 146, loss = 0.72059090\n",
            "Iteration 147, loss = 0.72068908\n",
            "Iteration 148, loss = 0.71892641\n",
            "Iteration 149, loss = 0.71830416\n",
            "Iteration 150, loss = 0.71779523\n",
            "Iteration 151, loss = 0.71664175\n",
            "Iteration 152, loss = 0.71613359\n",
            "Iteration 153, loss = 0.71465929\n",
            "Iteration 154, loss = 0.71504811\n",
            "Iteration 155, loss = 0.71427929\n",
            "Iteration 156, loss = 0.71311569\n",
            "Iteration 157, loss = 0.71231253\n",
            "Iteration 158, loss = 0.71302169\n",
            "Iteration 159, loss = 0.71143704\n",
            "Iteration 160, loss = 0.70985656\n",
            "Iteration 161, loss = 0.70942365\n",
            "Iteration 162, loss = 0.70900342\n",
            "Iteration 163, loss = 0.70857939\n",
            "Iteration 164, loss = 0.70670671\n",
            "Iteration 165, loss = 0.70551694\n",
            "Iteration 166, loss = 0.70526677\n",
            "Iteration 167, loss = 0.70370651\n",
            "Iteration 168, loss = 0.70359705\n",
            "Iteration 169, loss = 0.70154724\n",
            "Iteration 170, loss = 0.70130898\n",
            "Iteration 171, loss = 0.70136284\n",
            "Iteration 172, loss = 0.70076611\n",
            "Iteration 173, loss = 0.69884559\n",
            "Iteration 174, loss = 0.69778990\n",
            "Iteration 175, loss = 0.69786374\n",
            "Iteration 176, loss = 0.69692603\n",
            "Iteration 177, loss = 0.69797708\n",
            "Iteration 178, loss = 0.69520858\n",
            "Iteration 179, loss = 0.69473904\n",
            "Iteration 180, loss = 0.69466128\n",
            "Iteration 181, loss = 0.69360566\n",
            "Iteration 182, loss = 0.69081150\n",
            "Iteration 183, loss = 0.69186522\n",
            "Iteration 184, loss = 0.68936890\n",
            "Iteration 185, loss = 0.68989016\n",
            "Iteration 186, loss = 0.68952336\n",
            "Iteration 187, loss = 0.68693321\n",
            "Iteration 188, loss = 0.68529606\n",
            "Iteration 189, loss = 0.68520013\n",
            "Iteration 190, loss = 0.68366404\n",
            "Iteration 191, loss = 0.68368706\n",
            "Iteration 192, loss = 0.68178543\n",
            "Iteration 193, loss = 0.68272278\n",
            "Iteration 194, loss = 0.68194132\n",
            "Iteration 195, loss = 0.67973717\n",
            "Iteration 196, loss = 0.67975512\n",
            "Iteration 197, loss = 0.67905306\n",
            "Iteration 198, loss = 0.67732457\n",
            "Iteration 199, loss = 0.67650543\n",
            "Iteration 200, loss = 0.67616501\n",
            "Iteration 201, loss = 0.67608785\n",
            "Iteration 202, loss = 0.67373942\n",
            "Iteration 203, loss = 0.67536172\n",
            "Iteration 204, loss = 0.67650059\n",
            "Iteration 205, loss = 0.67124537\n",
            "Iteration 206, loss = 0.66940276\n",
            "Iteration 207, loss = 0.67126839\n",
            "Iteration 208, loss = 0.67084079\n",
            "Iteration 209, loss = 0.66780126\n",
            "Iteration 210, loss = 0.66861655\n",
            "Iteration 211, loss = 0.66690961\n",
            "Iteration 212, loss = 0.66837258\n",
            "Iteration 213, loss = 0.66568249\n",
            "Iteration 214, loss = 0.66503499\n",
            "Iteration 215, loss = 0.66387919\n",
            "Iteration 216, loss = 0.66473009\n",
            "Iteration 217, loss = 0.66313059\n",
            "Iteration 218, loss = 0.66093930\n",
            "Iteration 219, loss = 0.65783637\n",
            "Iteration 220, loss = 0.65882737\n",
            "Iteration 221, loss = 0.65757665\n",
            "Iteration 222, loss = 0.65524278\n",
            "Iteration 223, loss = 0.65653781\n",
            "Iteration 224, loss = 0.65536509\n",
            "Iteration 225, loss = 0.65203582\n",
            "Iteration 226, loss = 0.65227084\n",
            "Iteration 227, loss = 0.64985345\n",
            "Iteration 228, loss = 0.64938964\n",
            "Iteration 229, loss = 0.64772707\n",
            "Iteration 230, loss = 0.64677857\n",
            "Iteration 231, loss = 0.64604557\n",
            "Iteration 232, loss = 0.64739887\n",
            "Iteration 233, loss = 0.64443988\n",
            "Iteration 234, loss = 0.64446553\n",
            "Iteration 235, loss = 0.64298332\n",
            "Iteration 236, loss = 0.64598515\n",
            "Iteration 237, loss = 0.64280706\n",
            "Iteration 238, loss = 0.63917716\n",
            "Iteration 239, loss = 0.63897451\n",
            "Iteration 240, loss = 0.63745041\n",
            "Iteration 241, loss = 0.63872138\n",
            "Iteration 242, loss = 0.63621170\n",
            "Iteration 243, loss = 0.63570632\n",
            "Iteration 244, loss = 0.63249023\n",
            "Iteration 245, loss = 0.63457152\n",
            "Iteration 246, loss = 0.63166283\n",
            "Iteration 247, loss = 0.63006069\n",
            "Iteration 248, loss = 0.62848462\n",
            "Iteration 249, loss = 0.62900863\n",
            "Iteration 250, loss = 0.62822927\n",
            "Iteration 251, loss = 0.62424497\n",
            "Iteration 252, loss = 0.62699448\n",
            "Iteration 253, loss = 0.62427087\n",
            "Iteration 254, loss = 0.62325631\n",
            "Iteration 255, loss = 0.62057054\n",
            "Iteration 256, loss = 0.62153376\n",
            "Iteration 257, loss = 0.61983770\n",
            "Iteration 258, loss = 0.62019796\n",
            "Iteration 259, loss = 0.61672780\n",
            "Iteration 260, loss = 0.61707832\n",
            "Iteration 261, loss = 0.61436249\n",
            "Iteration 262, loss = 0.61251810\n",
            "Iteration 263, loss = 0.61350294\n",
            "Iteration 264, loss = 0.61330984\n",
            "Iteration 265, loss = 0.61310324\n",
            "Iteration 266, loss = 0.61090658\n",
            "Iteration 267, loss = 0.60918895\n",
            "Iteration 268, loss = 0.60681384\n",
            "Iteration 269, loss = 0.60670322\n",
            "Iteration 270, loss = 0.60656939\n",
            "Iteration 271, loss = 0.60416500\n",
            "Iteration 272, loss = 0.60271248\n",
            "Iteration 273, loss = 0.60436656\n",
            "Iteration 274, loss = 0.60357838\n",
            "Iteration 275, loss = 0.60214013\n",
            "Iteration 276, loss = 0.59925028\n",
            "Iteration 277, loss = 0.59995171\n",
            "Iteration 278, loss = 0.59984905\n",
            "Iteration 279, loss = 0.59659129\n",
            "Iteration 280, loss = 0.59374285\n",
            "Iteration 281, loss = 0.59227286\n",
            "Iteration 282, loss = 0.59073113\n",
            "Iteration 283, loss = 0.59244196\n",
            "Iteration 284, loss = 0.58908023\n",
            "Iteration 285, loss = 0.59404747\n",
            "Iteration 286, loss = 0.58785749\n",
            "Iteration 287, loss = 0.58982944\n",
            "Iteration 288, loss = 0.58759348\n",
            "Iteration 289, loss = 0.58694983\n",
            "Iteration 290, loss = 0.58553487\n",
            "Iteration 291, loss = 0.58224944\n",
            "Iteration 292, loss = 0.58364601\n",
            "Iteration 293, loss = 0.58090088\n",
            "Iteration 294, loss = 0.57706462\n",
            "Iteration 295, loss = 0.58002596\n",
            "Iteration 296, loss = 0.57890563\n",
            "Iteration 297, loss = 0.57431520\n",
            "Iteration 298, loss = 0.57722288\n",
            "Iteration 299, loss = 0.57281146\n",
            "Iteration 300, loss = 0.57686811\n",
            "Iteration 301, loss = 0.56910236\n",
            "Iteration 302, loss = 0.57251191\n",
            "Iteration 303, loss = 0.56944885\n",
            "Iteration 304, loss = 0.56924485\n",
            "Iteration 305, loss = 0.56578992\n",
            "Iteration 306, loss = 0.56272894\n",
            "Iteration 307, loss = 0.56192936\n",
            "Iteration 308, loss = 0.56201798\n",
            "Iteration 309, loss = 0.56733278\n",
            "Iteration 310, loss = 0.56472639\n",
            "Iteration 311, loss = 0.55973880\n",
            "Iteration 312, loss = 0.55738064\n",
            "Iteration 313, loss = 0.55836565\n",
            "Iteration 314, loss = 0.55777383\n",
            "Iteration 315, loss = 0.55483959\n",
            "Iteration 316, loss = 0.55491983\n",
            "Iteration 317, loss = 0.55388336\n",
            "Iteration 318, loss = 0.54948345\n",
            "Iteration 319, loss = 0.55365962\n",
            "Iteration 320, loss = 0.55203736\n",
            "Iteration 321, loss = 0.54849940\n",
            "Iteration 322, loss = 0.55005041\n",
            "Iteration 323, loss = 0.54469019\n",
            "Iteration 324, loss = 0.54804663\n",
            "Iteration 325, loss = 0.54325191\n",
            "Iteration 326, loss = 0.54559367\n",
            "Iteration 327, loss = 0.53848273\n",
            "Iteration 328, loss = 0.54221954\n",
            "Iteration 329, loss = 0.54226793\n",
            "Iteration 330, loss = 0.53676279\n",
            "Iteration 331, loss = 0.54097825\n",
            "Iteration 332, loss = 0.53304858\n",
            "Iteration 333, loss = 0.53408563\n",
            "Iteration 334, loss = 0.53360660\n",
            "Iteration 335, loss = 0.53276518\n",
            "Iteration 336, loss = 0.52925452\n",
            "Iteration 337, loss = 0.53072568\n",
            "Iteration 338, loss = 0.53084971\n",
            "Iteration 339, loss = 0.53571422\n",
            "Iteration 340, loss = 0.52534540\n",
            "Iteration 341, loss = 0.52329779\n",
            "Iteration 342, loss = 0.52944678\n",
            "Iteration 343, loss = 0.52310983\n",
            "Iteration 344, loss = 0.52859829\n",
            "Iteration 345, loss = 0.52146033\n",
            "Iteration 346, loss = 0.51689136\n",
            "Iteration 347, loss = 0.51905919\n",
            "Iteration 348, loss = 0.52405908\n",
            "Iteration 349, loss = 0.51514180\n",
            "Iteration 350, loss = 0.51227647\n",
            "Iteration 351, loss = 0.51172499\n",
            "Iteration 352, loss = 0.50968614\n",
            "Iteration 353, loss = 0.52461743\n",
            "Iteration 354, loss = 0.50903967\n",
            "Iteration 355, loss = 0.50835320\n",
            "Iteration 356, loss = 0.50313174\n",
            "Iteration 357, loss = 0.50377970\n",
            "Iteration 358, loss = 0.50331116\n",
            "Iteration 359, loss = 0.51158593\n",
            "Iteration 360, loss = 0.50813162\n",
            "Iteration 361, loss = 0.50584534\n",
            "Iteration 362, loss = 0.49886068\n",
            "Iteration 363, loss = 0.50580241\n",
            "Iteration 364, loss = 0.49821098\n",
            "Iteration 365, loss = 0.49920968\n",
            "Iteration 366, loss = 0.49493837\n",
            "Iteration 367, loss = 0.48759219\n",
            "Iteration 368, loss = 0.49121862\n",
            "Iteration 369, loss = 0.49348655\n",
            "Iteration 370, loss = 0.49960804\n",
            "Iteration 371, loss = 0.49305767\n",
            "Iteration 372, loss = 0.48628462\n",
            "Iteration 373, loss = 0.49494450\n",
            "Iteration 374, loss = 0.48725005\n",
            "Iteration 375, loss = 0.48834228\n",
            "Iteration 376, loss = 0.47812026\n",
            "Iteration 377, loss = 0.47766269\n",
            "Iteration 378, loss = 0.48107289\n",
            "Iteration 379, loss = 0.47580183\n",
            "Iteration 380, loss = 0.47636597\n",
            "Iteration 381, loss = 0.46813921\n",
            "Iteration 382, loss = 0.47383675\n",
            "Iteration 383, loss = 0.47509629\n",
            "Iteration 384, loss = 0.47994412\n",
            "Iteration 385, loss = 0.46876528\n",
            "Iteration 386, loss = 0.46211523\n",
            "Iteration 387, loss = 0.46577958\n",
            "Iteration 388, loss = 0.46750397\n",
            "Iteration 389, loss = 0.47651018\n",
            "Iteration 390, loss = 0.45848475\n",
            "Iteration 391, loss = 0.46406487\n",
            "Iteration 392, loss = 0.47551865\n",
            "Iteration 393, loss = 0.45544753\n",
            "Iteration 394, loss = 0.45407347\n",
            "Iteration 395, loss = 0.46891778\n",
            "Iteration 396, loss = 0.45794754\n",
            "Iteration 397, loss = 0.45466608\n",
            "Iteration 398, loss = 0.47090999\n",
            "Iteration 399, loss = 0.45934661\n",
            "Iteration 400, loss = 0.45644439\n",
            "Iteration 401, loss = 0.45644331\n",
            "Iteration 402, loss = 0.44695264\n",
            "Iteration 403, loss = 0.45180087\n",
            "Iteration 404, loss = 0.44959369\n",
            "Iteration 405, loss = 0.46912788\n",
            "Iteration 406, loss = 0.44026009\n",
            "Iteration 407, loss = 0.45043579\n",
            "Iteration 408, loss = 0.43673813\n",
            "Iteration 409, loss = 0.45295961\n",
            "Iteration 410, loss = 0.47949371\n",
            "Iteration 411, loss = 0.45605656\n",
            "Iteration 412, loss = 0.42849027\n",
            "Iteration 413, loss = 0.43180595\n",
            "Iteration 414, loss = 0.44803559\n",
            "Iteration 415, loss = 0.44252826\n",
            "Iteration 416, loss = 0.44468388\n",
            "Iteration 417, loss = 0.44166579\n",
            "Iteration 418, loss = 0.43889530\n",
            "Iteration 419, loss = 0.42319942\n",
            "Iteration 420, loss = 0.42232870\n",
            "Iteration 421, loss = 0.43247078\n",
            "Iteration 422, loss = 0.42664670\n",
            "Iteration 423, loss = 0.42789944\n",
            "Iteration 424, loss = 0.41575878\n",
            "Iteration 425, loss = 0.41901490\n",
            "Iteration 426, loss = 0.41981005\n",
            "Iteration 427, loss = 0.41976224\n",
            "Iteration 428, loss = 0.43932261\n",
            "Iteration 429, loss = 0.43912164\n",
            "Iteration 430, loss = 0.41575402\n",
            "Iteration 431, loss = 0.40813557\n",
            "Iteration 432, loss = 0.41656572\n",
            "Iteration 433, loss = 0.45283417\n",
            "Iteration 434, loss = 0.40835911\n",
            "Iteration 435, loss = 0.43308087\n",
            "Iteration 436, loss = 0.40537417\n",
            "Iteration 437, loss = 0.42197294\n",
            "Iteration 438, loss = 0.41929037\n",
            "Iteration 439, loss = 0.39649253\n",
            "Iteration 440, loss = 0.42824238\n",
            "Iteration 441, loss = 0.41752384\n",
            "Iteration 442, loss = 0.38832008\n",
            "Iteration 443, loss = 0.39565774\n",
            "Iteration 444, loss = 0.39792280\n",
            "Iteration 445, loss = 0.40854189\n",
            "Iteration 446, loss = 0.41945367\n",
            "Iteration 447, loss = 0.39771776\n",
            "Iteration 448, loss = 0.39993056\n",
            "Iteration 449, loss = 0.39120486\n",
            "Iteration 450, loss = 0.40589980\n",
            "Iteration 451, loss = 0.38885042\n",
            "Iteration 452, loss = 0.44078462\n",
            "Iteration 453, loss = 0.37941027\n",
            "Iteration 454, loss = 0.39602674\n",
            "Iteration 455, loss = 0.38239774\n",
            "Iteration 456, loss = 0.41645652\n",
            "Iteration 457, loss = 0.37894462\n",
            "Iteration 458, loss = 0.38461401\n",
            "Iteration 459, loss = 0.38485259\n",
            "Iteration 460, loss = 0.38925523\n",
            "Iteration 461, loss = 0.37690596\n",
            "Iteration 462, loss = 0.37108930\n",
            "Iteration 463, loss = 0.40818940\n",
            "Iteration 464, loss = 0.40149496\n",
            "Iteration 465, loss = 0.40142887\n",
            "Iteration 466, loss = 0.37936077\n",
            "Iteration 467, loss = 0.37305717\n",
            "Iteration 468, loss = 0.36183767\n",
            "Iteration 469, loss = 0.37403048\n",
            "Iteration 470, loss = 0.38886377\n",
            "Iteration 471, loss = 0.37769863\n",
            "Iteration 472, loss = 0.37281647\n",
            "Iteration 473, loss = 0.36625399\n",
            "Iteration 474, loss = 0.35134418\n",
            "Iteration 475, loss = 0.39675465\n",
            "Iteration 476, loss = 0.35900027\n",
            "Iteration 477, loss = 0.37032691\n",
            "Iteration 478, loss = 0.39360724\n",
            "Iteration 479, loss = 0.36455239\n",
            "Iteration 480, loss = 0.37178649\n",
            "Iteration 481, loss = 0.41619588\n",
            "Iteration 482, loss = 0.34889163\n",
            "Iteration 483, loss = 0.35604779\n",
            "Iteration 484, loss = 0.35148613\n",
            "Iteration 485, loss = 0.34818115\n",
            "Iteration 486, loss = 0.38719487\n",
            "Iteration 487, loss = 0.36045113\n",
            "Iteration 488, loss = 0.35233759\n",
            "Iteration 489, loss = 0.32828598\n",
            "Iteration 490, loss = 0.36169443\n",
            "Iteration 491, loss = 0.35965373\n",
            "Iteration 492, loss = 0.36135194\n",
            "Iteration 493, loss = 0.34809578\n",
            "Iteration 494, loss = 0.42119413\n",
            "Iteration 495, loss = 0.33634419\n",
            "Iteration 496, loss = 0.36089728\n",
            "Iteration 497, loss = 0.37061760\n",
            "Iteration 498, loss = 0.32009374\n",
            "Iteration 499, loss = 0.31794169\n",
            "Iteration 500, loss = 0.32558853\n"
          ],
          "name": "stdout"
        },
        {
          "output_type": "execute_result",
          "data": {
            "text/plain": [
              "MLPClassifier(activation='relu', alpha=0.001, batch_size='auto', beta_1=0.9,\n",
              "              beta_2=0.999, early_stopping=False, epsilon=1e-08,\n",
              "              hidden_layer_sizes=(50, 50, 50), learning_rate='constant',\n",
              "              learning_rate_init=0.001, max_fun=15000, max_iter=500,\n",
              "              momentum=0.9, n_iter_no_change=10, nesterovs_momentum=True,\n",
              "              power_t=0.5, random_state=21, shuffle=True, solver='sgd',\n",
              "              tol=1e-09, validation_fraction=0.1, verbose=10, warm_start=False)"
            ]
          },
          "metadata": {
            "tags": []
          },
          "execution_count": 37
        }
      ]
    },
    {
      "cell_type": "code",
      "metadata": {
        "id": "SuaSu4OzcGeC",
        "colab_type": "code",
        "colab": {}
      },
      "source": [
        "MLP_test=MLPclass.predict(X_testfeat)\n",
        "MLP_trainpred=MLPclass.predict(X_feat)"
      ],
      "execution_count": 0,
      "outputs": []
    },
    {
      "cell_type": "code",
      "metadata": {
        "id": "hC-ojzTGctb7",
        "colab_type": "code",
        "outputId": "0a4f5b6d-1b6c-4fc3-db8d-914e96cc11a4",
        "colab": {
          "base_uri": "https://localhost:8080/",
          "height": 70
        }
      },
      "source": [
        "# Model Accuracy\n",
        "print(\"Neural Network - Multi Layer Perceptron Accuracy:\")\n",
        "MLPaccuracy=metrics.accuracy_score(y_test, MLP_test)\n",
        "MLPtrainacc=metrics.accuracy_score(y_train,MLP_trainpred)\n",
        "print(\"Test Accuracy:\",MLPaccuracy)\n",
        "print(\"Train Accuracy:\",MLPtrainacc)"
      ],
      "execution_count": 0,
      "outputs": [
        {
          "output_type": "stream",
          "text": [
            "Neural Network - Multi Layer Perceptron Accuracy:\n",
            "Test Accuracy: 0.8774671052631579\n",
            "Train Accuracy: 0.90234375\n"
          ],
          "name": "stdout"
        }
      ]
    },
    {
      "cell_type": "code",
      "metadata": {
        "id": "0rt8j0uAdAPH",
        "colab_type": "code",
        "colab": {}
      },
      "source": [
        "MLPpred=pd.DataFrame({'Predicted': MLP_test})"
      ],
      "execution_count": 0,
      "outputs": []
    },
    {
      "cell_type": "code",
      "metadata": {
        "id": "ibcLcct3dhta",
        "colab_type": "code",
        "colab": {}
      },
      "source": [
        "MLPpred[\"MLP\"] = MLPpred.apply(lambda row: TransformPred(row),axis=1)"
      ],
      "execution_count": 0,
      "outputs": []
    },
    {
      "cell_type": "code",
      "metadata": {
        "id": "SbZZ7Wcfds59",
        "colab_type": "code",
        "outputId": "ba90ca4b-f4d0-4c4b-dfac-341f9d980d75",
        "colab": {
          "base_uri": "https://localhost:8080/",
          "height": 194
        }
      },
      "source": [
        "MLPpred.head()"
      ],
      "execution_count": 0,
      "outputs": [
        {
          "output_type": "execute_result",
          "data": {
            "text/html": [
              "<div>\n",
              "<style scoped>\n",
              "    .dataframe tbody tr th:only-of-type {\n",
              "        vertical-align: middle;\n",
              "    }\n",
              "\n",
              "    .dataframe tbody tr th {\n",
              "        vertical-align: top;\n",
              "    }\n",
              "\n",
              "    .dataframe thead th {\n",
              "        text-align: right;\n",
              "    }\n",
              "</style>\n",
              "<table border=\"1\" class=\"dataframe\">\n",
              "  <thead>\n",
              "    <tr style=\"text-align: right;\">\n",
              "      <th></th>\n",
              "      <th>Predicted</th>\n",
              "      <th>MLP</th>\n",
              "    </tr>\n",
              "  </thead>\n",
              "  <tbody>\n",
              "    <tr>\n",
              "      <th>0</th>\n",
              "      <td>-1</td>\n",
              "      <td>AWAY</td>\n",
              "    </tr>\n",
              "    <tr>\n",
              "      <th>1</th>\n",
              "      <td>-1</td>\n",
              "      <td>AWAY</td>\n",
              "    </tr>\n",
              "    <tr>\n",
              "      <th>2</th>\n",
              "      <td>1</td>\n",
              "      <td>HOME</td>\n",
              "    </tr>\n",
              "    <tr>\n",
              "      <th>3</th>\n",
              "      <td>-1</td>\n",
              "      <td>AWAY</td>\n",
              "    </tr>\n",
              "    <tr>\n",
              "      <th>4</th>\n",
              "      <td>-1</td>\n",
              "      <td>AWAY</td>\n",
              "    </tr>\n",
              "  </tbody>\n",
              "</table>\n",
              "</div>"
            ],
            "text/plain": [
              "   Predicted   MLP\n",
              "0         -1  AWAY\n",
              "1         -1  AWAY\n",
              "2          1  HOME\n",
              "3         -1  AWAY\n",
              "4         -1  AWAY"
            ]
          },
          "metadata": {
            "tags": []
          },
          "execution_count": 42
        }
      ]
    },
    {
      "cell_type": "code",
      "metadata": {
        "id": "jojo9pjLKs4E",
        "colab_type": "code",
        "outputId": "39f3423f-c880-4065-adce-2ef3ec7bcf4e",
        "colab": {
          "base_uri": "https://localhost:8080/",
          "height": 124
        }
      },
      "source": [
        "y_test.head()"
      ],
      "execution_count": 0,
      "outputs": [
        {
          "output_type": "execute_result",
          "data": {
            "text/plain": [
              "3728   -1\n",
              "833    -1\n",
              "1744    1\n",
              "5604   -1\n",
              "3092   -1\n",
              "Name: Result, dtype: int64"
            ]
          },
          "metadata": {
            "tags": []
          },
          "execution_count": 43
        }
      ]
    },
    {
      "cell_type": "markdown",
      "metadata": {
        "id": "r6H8CMtFd0fM",
        "colab_type": "text"
      },
      "source": [
        "## Support Vector Machine\n",
        "SVM is an exciting algorithm and the concepts are relatively simple. The classifier separates data points using a hyperplane with the largest amount of margin. That's why an SVM classifier is also known as a discriminative classifier. SVM finds an optimal hyperplane which helps in classifying new data points."
      ]
    },
    {
      "cell_type": "code",
      "metadata": {
        "id": "VQSUBrFedtyd",
        "colab_type": "code",
        "colab": {}
      },
      "source": [
        "from sklearn.svm import SVC"
      ],
      "execution_count": 0,
      "outputs": []
    },
    {
      "cell_type": "code",
      "metadata": {
        "id": "-iymKC1Ees1x",
        "colab_type": "code",
        "colab": {}
      },
      "source": [
        "svclassifier = SVC(kernel='linear')\n",
        "svclassifier.fit(X_feat, y_train)\n",
        "SVC_pred=svclassifier.predict(X_testfeat)\n",
        "SVC_trainpred=svclassifier.predict(X_feat)"
      ],
      "execution_count": 0,
      "outputs": []
    },
    {
      "cell_type": "code",
      "metadata": {
        "id": "JEpWLSM_FCis",
        "colab_type": "code",
        "outputId": "df3ae6dd-a009-4910-e1b4-fc9363504dca",
        "colab": {
          "base_uri": "https://localhost:8080/",
          "height": 70
        }
      },
      "source": [
        "# Model Accuracy\n",
        "print(\"Support Vector Machine:\")\n",
        "SVCaccuracy=metrics.accuracy_score(y_test, SVC_pred)\n",
        "SVCtrainacc=metrics.accuracy_score(y_train,SVC_trainpred)\n",
        "print(\"Test Accuracy:\",SVCaccuracy)\n",
        "print(\"Train Accuracy:\",SVCtrainacc)"
      ],
      "execution_count": 0,
      "outputs": [
        {
          "output_type": "stream",
          "text": [
            "Support Vector Machine:\n",
            "Test Accuracy: 0.5995065789473685\n",
            "Train Accuracy: 0.61328125\n"
          ],
          "name": "stdout"
        }
      ]
    },
    {
      "cell_type": "code",
      "metadata": {
        "id": "MAhyE9mYFrna",
        "colab_type": "code",
        "colab": {}
      },
      "source": [
        "SVCpred=pd.DataFrame({'Predicted': SVC_pred})"
      ],
      "execution_count": 0,
      "outputs": []
    },
    {
      "cell_type": "code",
      "metadata": {
        "id": "BiS_odc7Fyak",
        "colab_type": "code",
        "colab": {}
      },
      "source": [
        "SVCpred[\"SVC\"] = SVCpred.apply(lambda row: TransformPred(row),axis=1)"
      ],
      "execution_count": 0,
      "outputs": []
    },
    {
      "cell_type": "code",
      "metadata": {
        "id": "Sayh8nbpF5VF",
        "colab_type": "code",
        "outputId": "c4db9bd3-c8ca-49c0-83f8-65c9e9a691ea",
        "colab": {
          "base_uri": "https://localhost:8080/",
          "height": 194
        }
      },
      "source": [
        "SVCpred.head()"
      ],
      "execution_count": 0,
      "outputs": [
        {
          "output_type": "execute_result",
          "data": {
            "text/html": [
              "<div>\n",
              "<style scoped>\n",
              "    .dataframe tbody tr th:only-of-type {\n",
              "        vertical-align: middle;\n",
              "    }\n",
              "\n",
              "    .dataframe tbody tr th {\n",
              "        vertical-align: top;\n",
              "    }\n",
              "\n",
              "    .dataframe thead th {\n",
              "        text-align: right;\n",
              "    }\n",
              "</style>\n",
              "<table border=\"1\" class=\"dataframe\">\n",
              "  <thead>\n",
              "    <tr style=\"text-align: right;\">\n",
              "      <th></th>\n",
              "      <th>Predicted</th>\n",
              "      <th>SVC</th>\n",
              "    </tr>\n",
              "  </thead>\n",
              "  <tbody>\n",
              "    <tr>\n",
              "      <th>0</th>\n",
              "      <td>-1</td>\n",
              "      <td>AWAY</td>\n",
              "    </tr>\n",
              "    <tr>\n",
              "      <th>1</th>\n",
              "      <td>-1</td>\n",
              "      <td>AWAY</td>\n",
              "    </tr>\n",
              "    <tr>\n",
              "      <th>2</th>\n",
              "      <td>1</td>\n",
              "      <td>HOME</td>\n",
              "    </tr>\n",
              "    <tr>\n",
              "      <th>3</th>\n",
              "      <td>-1</td>\n",
              "      <td>AWAY</td>\n",
              "    </tr>\n",
              "    <tr>\n",
              "      <th>4</th>\n",
              "      <td>-1</td>\n",
              "      <td>AWAY</td>\n",
              "    </tr>\n",
              "  </tbody>\n",
              "</table>\n",
              "</div>"
            ],
            "text/plain": [
              "   Predicted   SVC\n",
              "0         -1  AWAY\n",
              "1         -1  AWAY\n",
              "2          1  HOME\n",
              "3         -1  AWAY\n",
              "4         -1  AWAY"
            ]
          },
          "metadata": {
            "tags": []
          },
          "execution_count": 49
        }
      ]
    },
    {
      "cell_type": "markdown",
      "metadata": {
        "id": "hnyGOZ5yGGX1",
        "colab_type": "text"
      },
      "source": [
        "## Combine the Predictions of different models along with the actual outcome to a dataframe"
      ]
    },
    {
      "cell_type": "code",
      "metadata": {
        "id": "36U2a02tGohk",
        "colab_type": "code",
        "colab": {}
      },
      "source": [
        "df1=X_test[[\"HomeTeam\"]]\n",
        "df1.reset_index(inplace=True)\n",
        "df1.head()\n",
        "df2=X_test[['AwayTeam']]\n",
        "df2.reset_index(inplace=True)\n",
        "df3=X_test[['FTR']]\n",
        "df3.reset_index(inplace=True)"
      ],
      "execution_count": 0,
      "outputs": []
    },
    {
      "cell_type": "code",
      "metadata": {
        "id": "k1rqb6SHI2Ml",
        "colab_type": "code",
        "colab": {}
      },
      "source": [
        "finall=pd.DataFrame({\n",
        "    'HomeTeam': df1['HomeTeam'],\n",
        "    'AwayTeam': df2['AwayTeam'],\n",
        "    'Actual Result': df3['FTR'],\n",
        "    'RF': RFpred[\"RF\"],\n",
        "    'LR': LRpred[\"LR\"],\n",
        "    'MNB': MNBpred['MNB'],\n",
        "    'MLP': MLPpred['MLP'],\n",
        "    'SVC': SVCpred['SVC']})"
      ],
      "execution_count": 0,
      "outputs": []
    },
    {
      "cell_type": "code",
      "metadata": {
        "id": "Iaa70vqeI7RS",
        "colab_type": "code",
        "outputId": "2ed5864a-de94-40be-cca1-cc7526133ac4",
        "colab": {
          "base_uri": "https://localhost:8080/",
          "height": 194
        }
      },
      "source": [
        "finall.head()"
      ],
      "execution_count": 0,
      "outputs": [
        {
          "output_type": "execute_result",
          "data": {
            "text/html": [
              "<div>\n",
              "<style scoped>\n",
              "    .dataframe tbody tr th:only-of-type {\n",
              "        vertical-align: middle;\n",
              "    }\n",
              "\n",
              "    .dataframe tbody tr th {\n",
              "        vertical-align: top;\n",
              "    }\n",
              "\n",
              "    .dataframe thead th {\n",
              "        text-align: right;\n",
              "    }\n",
              "</style>\n",
              "<table border=\"1\" class=\"dataframe\">\n",
              "  <thead>\n",
              "    <tr style=\"text-align: right;\">\n",
              "      <th></th>\n",
              "      <th>HomeTeam</th>\n",
              "      <th>AwayTeam</th>\n",
              "      <th>Actual Result</th>\n",
              "      <th>RF</th>\n",
              "      <th>LR</th>\n",
              "      <th>MNB</th>\n",
              "      <th>MLP</th>\n",
              "      <th>SVC</th>\n",
              "    </tr>\n",
              "  </thead>\n",
              "  <tbody>\n",
              "    <tr>\n",
              "      <th>0</th>\n",
              "      <td>Derby</td>\n",
              "      <td>Chelsea</td>\n",
              "      <td>A</td>\n",
              "      <td>AWAY</td>\n",
              "      <td>AWAY</td>\n",
              "      <td>AWAY</td>\n",
              "      <td>AWAY</td>\n",
              "      <td>AWAY</td>\n",
              "    </tr>\n",
              "    <tr>\n",
              "      <th>1</th>\n",
              "      <td>Man City</td>\n",
              "      <td>Newcastle</td>\n",
              "      <td>A</td>\n",
              "      <td>AWAY</td>\n",
              "      <td>AWAY</td>\n",
              "      <td>AWAY</td>\n",
              "      <td>AWAY</td>\n",
              "      <td>AWAY</td>\n",
              "    </tr>\n",
              "    <tr>\n",
              "      <th>2</th>\n",
              "      <td>Ipswich</td>\n",
              "      <td>Leicester</td>\n",
              "      <td>H</td>\n",
              "      <td>HOME</td>\n",
              "      <td>HOME</td>\n",
              "      <td>HOME</td>\n",
              "      <td>HOME</td>\n",
              "      <td>HOME</td>\n",
              "    </tr>\n",
              "    <tr>\n",
              "      <th>3</th>\n",
              "      <td>West Ham</td>\n",
              "      <td>Chelsea</td>\n",
              "      <td>A</td>\n",
              "      <td>AWAY</td>\n",
              "      <td>AWAY</td>\n",
              "      <td>AWAY</td>\n",
              "      <td>AWAY</td>\n",
              "      <td>AWAY</td>\n",
              "    </tr>\n",
              "    <tr>\n",
              "      <th>4</th>\n",
              "      <td>Everton</td>\n",
              "      <td>Man United</td>\n",
              "      <td>A</td>\n",
              "      <td>AWAY</td>\n",
              "      <td>AWAY</td>\n",
              "      <td>AWAY</td>\n",
              "      <td>AWAY</td>\n",
              "      <td>AWAY</td>\n",
              "    </tr>\n",
              "  </tbody>\n",
              "</table>\n",
              "</div>"
            ],
            "text/plain": [
              "   HomeTeam    AwayTeam Actual Result    RF    LR   MNB   MLP   SVC\n",
              "0     Derby     Chelsea             A  AWAY  AWAY  AWAY  AWAY  AWAY\n",
              "1  Man City   Newcastle             A  AWAY  AWAY  AWAY  AWAY  AWAY\n",
              "2   Ipswich   Leicester             H  HOME  HOME  HOME  HOME  HOME\n",
              "3  West Ham     Chelsea             A  AWAY  AWAY  AWAY  AWAY  AWAY\n",
              "4   Everton  Man United             A  AWAY  AWAY  AWAY  AWAY  AWAY"
            ]
          },
          "metadata": {
            "tags": []
          },
          "execution_count": 52
        }
      ]
    },
    {
      "cell_type": "code",
      "metadata": {
        "id": "1Nnq190zNVbl",
        "colab_type": "code",
        "colab": {}
      },
      "source": [
        "finall.to_csv(loc+'final.csv')"
      ],
      "execution_count": 0,
      "outputs": []
    },
    {
      "cell_type": "markdown",
      "metadata": {
        "id": "9lLZ9h-bPaTV",
        "colab_type": "text"
      },
      "source": [
        "### Compare the Accuracy of the models"
      ]
    },
    {
      "cell_type": "code",
      "metadata": {
        "id": "VbcxV2QpNclQ",
        "colab_type": "code",
        "outputId": "69eb6e8d-9fe2-4c2a-ffd3-fd98b42acce1",
        "colab": {
          "base_uri": "https://localhost:8080/",
          "height": 336
        }
      },
      "source": [
        "import matplotlib.pyplot as plt; plt.rcdefaults()\n",
        "import numpy as np\n",
        "import matplotlib.pyplot as plt\n",
        "%matplotlib inline\n",
        "f, ax = plt.subplots(figsize=(5,5))\n",
        "models = ('RF', 'MNB', 'LR', 'NN-MLP', 'SVC')\n",
        "performance = [RFacc,MNBaccuracy,LRaccuracy,MLPaccuracy,SVCaccuracy]\n",
        "plt.bar(models, performance, align='center', alpha=0.5)\n",
        "plt.ylabel('Accuracy')\n",
        "plt.title('Model')\n",
        "\n",
        "plt.show()"
      ],
      "execution_count": 0,
      "outputs": [
        {
          "output_type": "display_data",
          "data": {
            "image/png": "[encoded data removed]",
            "text/plain": [
              "<Figure size 360x360 with 1 Axes>"
            ]
          },
          "metadata": {
            "tags": [],
            "needs_background": "light"
          }
        }
      ]
    },
    {
      "cell_type": "code",
      "metadata": {
        "id": "iJHUBMNhQQiB",
        "colab_type": "code",
        "colab": {}
      },
      "source": [
        ""
      ],
      "execution_count": 0,
      "outputs": []
    },
    {
      "cell_type": "code",
      "metadata": {
        "id": "mrpupSs1no7S",
        "colab_type": "code",
        "colab": {}
      },
      "source": [
        ""
      ],
      "execution_count": 0,
      "outputs": []
    }
  ]
}